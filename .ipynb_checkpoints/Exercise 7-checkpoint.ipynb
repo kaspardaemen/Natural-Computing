{
 "cells": [
  {
   "cell_type": "markdown",
   "metadata": {},
   "source": [
    "# Excercise 7\n",
    "Give a suitable function, terminal set and s-expression for the following logical and mathematical formulas.\n",
    "\n",
    "## 7.A. $(Y \\land True) \\rightarrow ((X \\lor Y) \\lor (Z \\leftrightarrow (X \\land Y))) $\n",
    "### 7.A.1. Function \n",
    "$\\{\\lor, \\rightarrow, \\land, \\leftrightarrow \\} $\n",
    "### 7.A.2. Terminal set\n",
    "$ \\{ Y, True, X, Z \\}$\n",
    "### 7.A.3. S-Expression\n",
    "$ (\\rightarrow\\ (\\land\\ Y\\ True)\\ ( \\lor\\ (\\lor\\ (\\ X\\ Y\\ ) \\ (\\leftrightarrow\\ Z\\ (\\land\\ X\\ Y\\ ))))$\n",
    "\n",
    "## 7.B. $ 0.234 * Z + X - 0.789 $\n",
    "### 7.B.1. Function \n",
    "$ \\{ *, +, - \\}$\n",
    "### 7.B.2. Terminal set\n",
    "$ \\{ Z, X, 0.234, 0,789\\} $\n",
    "### 7.B.3. S-Expression\n",
    "$( +\\ (*\\ 0.234\\ Z\\ )\\ (-\\ X\\ 0.789)) $\n"
   ]
  },
  {
   "cell_type": "markdown",
   "metadata": {},
   "source": [
    "# Excercise 8\n",
    "Implement a GP program for finding a symbolic expression that fits the following data:                           \n",
    "\n",
    "|(Input) DependentVariable  | Y(Output) |\n",
    "| ------------------------- | ----------|\n",
    "| −1.0                      | 0.0000    |\n",
    "| −0.9                      | −0.1629   |\n",
    "| −0.8                      | −0.2624   | \n",
    "| −0.7                      | −0.3129   |\n",
    "| −0.6                      | −0.3264   |\n",
    "| −0.5                      | −0.3125   |\n",
    "| −0.4                      | −0.2784   |\n",
    "| −0.3                      | −0.2289   |\n",
    "| −0.2                      | −0.1664   |\n",
    "| −0.1                      | −0.0909   |\n",
    "|  0                        |    0.0    |\n",
    "|  0.1                      |  0.1111   |\n",
    "|  0.2                      |   0.2496  |\n",
    "|  0.3                      |   0.4251  |\n",
    "|  0.4                      |   0.6496  |\n",
    "|  0.5                      |   0.9375  |\n",
    "|  0.6                      |   1.3056  |\n",
    "|  0.7                      |   1.7731  |\n",
    "|  0.8                      |   2.3616  |\n",
    "|  0.9                      |   3.0951  |\n",
    "|  1.0                      |   4.0000  |\n",
    "\n",
    "With the following parameter settings:   \n",
    "- population size: 1000, \n",
    "- function set: {+, −, ∗, log, exp, sin, cos, div}, \n",
    "- terminal set: x, \n",
    "- number of generations 50, \n",
    "- crossover probability 0.7, \n",
    "- mutation probability: 0, \n",
    "- fitness: - sum of absolute errors\n",
    "\n",
    "You can use an existing GP framework:   \n",
    "see for instance list of implementation frameworks mentioned in the syllabus. \n",
    "Plot the following:\n",
    "- (a) best of generation fitness (y-axis) versus generation (x-axis). \n",
    "- (b) best of generation size (y-axis) versus generation (x-axis). \n",
    "\n",
    "Can you observe any undesirable phenomenon from these plots? In case of positive answer, how would you try to overcome the related problem (you can refer to the literature).\n"
   ]
  },
  {
   "cell_type": "markdown",
   "metadata": {},
   "source": [
    "## 8.A. Best of generation fitness (y-axis) versus generation (x-axis). "
   ]
  },
  {
   "cell_type": "markdown",
   "metadata": {},
   "source": [
    "## 8.B. Best of generation size (y-axis) versus generation (x-axis)."
   ]
  },
  {
   "cell_type": "markdown",
   "metadata": {},
   "source": [
    "## Can you observe any undesirable phenomenon from these plots?\n",
    "In case of positive answer, how would you try to overcome the related problem (you can refer to the literature)."
   ]
  },
  {
   "cell_type": "code",
   "execution_count": null,
   "metadata": {},
   "outputs": [],
   "source": []
  }
 ],
 "metadata": {
  "kernelspec": {
   "display_name": "Python 3",
   "language": "python",
   "name": "python3"
  },
  "language_info": {
   "codemirror_mode": {
    "name": "ipython",
    "version": 3
   },
   "file_extension": ".py",
   "mimetype": "text/x-python",
   "name": "python",
   "nbconvert_exporter": "python",
   "pygments_lexer": "ipython3",
   "version": "3.8.5"
  }
 },
 "nbformat": 4,
 "nbformat_minor": 4
}
