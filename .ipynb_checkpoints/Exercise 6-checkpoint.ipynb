{
 "cells": [
  {
   "cell_type": "code",
   "execution_count": 1,
   "metadata": {},
   "outputs": [],
   "source": [
    "from numpy import random\n",
    "import matplotlib.pyplot as plt\n",
    "import seaborn as sns\n",
    "import numpy as np\n",
    "sns.set()\n",
    "np.random.seed(666)\n",
    "from random import sample \n",
    "from deap import tools"
   ]
  },
  {
   "cell_type": "code",
   "execution_count": 2,
   "metadata": {},
   "outputs": [],
   "source": [
    "class GA():\n",
    "    def __init__(self,k=2,pop_size=100, ind_size=8, n_iterations = 50):\n",
    "        self.k = k\n",
    "        self.pop_size = pop_size\n",
    "        self.ind_size = ind_size\n",
    "        self.hist = []\n",
    "        self.data = np.loadtxt('file-tsp.txt')\n",
    "        self.n_iterations = n_iterations\n",
    "        \n",
    "        self.generate_pop()\n",
    "    \n",
    "    def generate_pop(self):\n",
    "        self.pop =  [random.permutation([i for i in range(0,self.ind_size)]) for x in range(self.pop_size) ]\n",
    "        \n",
    "    def tournament(self):\n",
    "        new_pop = []\n",
    "        for i in range(self.pop_size):\n",
    "            candidates = random.choice(self.pop, 2, replace=True)\n",
    "\n",
    "            fittest =  candidates[0] if self.evaluate(candidates[0]) < self.evaluate(candidates[1]) else candidates[1]\n",
    "            new_pop.append(fittest)\n",
    "        return new_pop\n",
    "    \n",
    "    def evaluate(self,ind):\n",
    "        l = []\n",
    "        for i in range(self.ind_size-1):\n",
    "\n",
    "            dist = np.linalg.norm(self.data[ind[i]]-self.data[ind[i+1]])    \n",
    "            l.append(dist)\n",
    "        return l, sum(l)\n",
    "    \n",
    "    def avg_pop(self):\n",
    "        return np.average([self.evaluate(x)[1] for x in self.pop])\n",
    "    \n",
    "        \n",
    "    \n",
    "    def order_crossover(self,p1, p2):\n",
    "        #\n",
    "        size = self.ind_size\n",
    "        start, end = np.sort(random.choice(range(1,size - 1), 2, replace = False))\n",
    "        print(f'p1: {p1}\\np2: {p2}')\n",
    "        print(f'start: {start}, end: {end}')\n",
    "        c1 = [-1] * size\n",
    "        c2 = [-1] * size\n",
    "        c1[start:end] = p1[start:end]\n",
    "        c2[start:end] = p2[start:end]\n",
    "\n",
    "        p1_order = p1[end:] + p1[:end]\n",
    "        p2_order = p2[end:] + p2[:end]\n",
    "\n",
    "        missing_indices = np.append(range(end,size),range(0,start))\n",
    "\n",
    "\n",
    "        pos = 0\n",
    "        for index in missing_indices:\n",
    "            while True:\n",
    "                if(p2_order[pos] not in c1):\n",
    "                    c1[index] = p2_order[pos]\n",
    "                    pos += 1\n",
    "                    break\n",
    "                pos += 1\n",
    "        pos = 0\n",
    "        \n",
    "        for index in missing_indices:\n",
    "            while True:\n",
    "                if(p1_order[pos] not in c2):\n",
    "                    c2[index] = p1_order[pos]\n",
    "                    pos += 1\n",
    "                    break\n",
    "                pos += 1    \n",
    "        return c1, c2\n",
    "        \n",
    "        \n",
    "    def run(self):\n",
    "        #print(self.avg_pop())\n",
    "        #for i in range(self.n_iterations):\n",
    "        #self.pop = self.tournament()\n",
    "        p1 = list(self.pop[0])\n",
    "        p2 = list(self.pop[1])\n",
    "        \n",
    "        \n",
    "        \n",
    "        c1, c2 = self.order_crossover(p1,p2)\n",
    "        \n",
    "        print(f'c1: {c1}\\nc2 {c2}')\n",
    "        \n",
    "    \n",
    "        \n",
    "        "
   ]
  },
  {
   "cell_type": "code",
   "execution_count": 7,
   "metadata": {},
   "outputs": [],
   "source": [
    "g = GA(ind_size=50)"
   ]
  },
  {
   "cell_type": "code",
   "execution_count": 8,
   "metadata": {},
   "outputs": [
    {
     "name": "stdout",
     "output_type": "stream",
     "text": [
      "p1: [18, 42, 14, 40, 22, 3, 43, 38, 27, 12, 30, 24, 21, 15, 34, 10, 20, 31, 32, 2, 41, 25, 5, 33, 47, 49, 6, 39, 7, 17, 29, 19, 13, 48, 8, 16, 44, 37, 4, 35, 26, 45, 23, 9, 1, 0, 36, 11, 46, 28]\n",
      "p2: [28, 40, 42, 11, 8, 38, 30, 13, 26, 23, 15, 2, 5, 27, 10, 24, 45, 22, 21, 46, 17, 18, 0, 44, 37, 47, 25, 49, 1, 48, 14, 3, 31, 33, 9, 43, 6, 12, 7, 29, 19, 4, 32, 41, 34, 39, 36, 16, 20, 35]\n",
      "start: 4, end: 10\n",
      "c1: [30, 13, 26, 23, 22, 3, 43, 38, 27, 12, 15, 2, 5, 10, 24, 45, 21, 46, 17, 18, 0, 44, 37, 47, 25, 49, 1, 48, 14, 31, 33, 9, 6, 7, 29, 19, 4, 32, 41, 34, 39, 36, 16, 20, 35, 28, 40, 42, 11, 8]\n",
      "c2 [3, 43, 27, 12, 8, 38, 30, 13, 26, 23, 24, 21, 15, 34, 10, 20, 31, 32, 2, 41, 25, 5, 33, 47, 49, 6, 39, 7, 17, 29, 19, 48, 16, 44, 37, 4, 35, 45, 9, 1, 0, 36, 11, 46, 28, 18, 42, 14, 40, 22]\n"
     ]
    }
   ],
   "source": [
    "g.run()"
   ]
  },
  {
   "cell_type": "code",
   "execution_count": null,
   "metadata": {},
   "outputs": [],
   "source": []
  }
 ],
 "metadata": {
  "kernelspec": {
   "display_name": "Python 3",
   "language": "python",
   "name": "python3"
  },
  "language_info": {
   "codemirror_mode": {
    "name": "ipython",
    "version": 3
   },
   "file_extension": ".py",
   "mimetype": "text/x-python",
   "name": "python",
   "nbconvert_exporter": "python",
   "pygments_lexer": "ipython3",
   "version": "3.7.6"
  }
 },
 "nbformat": 4,
 "nbformat_minor": 4
}
