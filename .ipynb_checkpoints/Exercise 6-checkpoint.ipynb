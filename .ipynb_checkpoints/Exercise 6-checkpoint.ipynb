{
 "cells": [
  {
   "cell_type": "code",
   "execution_count": 1,
   "metadata": {},
   "outputs": [],
   "source": [
    "from numpy import random\n",
    "from random import random as rand\n",
    "import matplotlib.pyplot as plt\n",
    "import seaborn as sns\n",
    "import numpy as np\n",
    "sns.set()\n",
    "np.random.seed(10)\n",
    "from random import sample "
   ]
  },
  {
   "cell_type": "code",
   "execution_count": 2,
   "metadata": {},
   "outputs": [],
   "source": [
    "test_data = [(1, 1), (4, 2), (5, 2), (6, 4), (4, 4), (3, 6), (1, 5), (2, 3)]\n",
    "test_data = np.array([list(x) for x in test_data])"
   ]
  },
  {
   "cell_type": "code",
   "execution_count": null,
   "metadata": {},
   "outputs": [],
   "source": [
    "class GA():\n",
    "    def __init__(self,k=2,pop_size=100, ind_size=8, n_iterations = 50, mutation_prob = 0.1, crossover_prob = 0.2, n_neighbors = 5, memetic = False):\n",
    "        if not (ind_size == 8 or ind_size == 50):\n",
    "            raise Exception(\"Sorry, only the ind_sizes 8 and 50 are supported\")\n",
    "\n",
    "        self.k = k\n",
    "        self.pop_size = pop_size\n",
    "        self.ind_size = ind_size\n",
    "        self.hist = []\n",
    "        self.data = np.loadtxt('file-tsp.txt')  if  self.ind_size == 50 else test_data\n",
    "        self.k = 2\n",
    "        self.crossover_prob = crossover_prob\n",
    "        self.n_neighbors = n_neighbors\n",
    "        self.n_iterations = n_iterations\n",
    "        self.mutation_prob = mutation_prob\n",
    "        \n",
    "        \n",
    "    def generate_pop(self):\n",
    "        self.pop =  np.array([random.permutation([i for i in range(0,self.ind_size)]) for x in range(self.pop_size) ])\n",
    "        \n",
    "    def tournament(self, k=2):\n",
    "        new_pop = []\n",
    "        for i in range(self.pop_size):\n",
    "            \n",
    "            indices = random.choice(len(self.pop), k, replace=True)\n",
    "            candidates = self.pop[indices]\n",
    "            \n",
    "            fittest =  candidates[0] if self.evaluate(candidates[0]) < self.evaluate(candidates[1]) else candidates[1]\n",
    "            new_pop.append(fittest)\n",
    "        return new_pop\n",
    "    \n",
    "    def evaluate(self,ind):\n",
    "        l = []\n",
    "        for i in range(self.ind_size-1):\n",
    "            dist = np.linalg.norm(self.data[ind[i]]-self.data[ind[i+1]])    \n",
    "            l.append(dist)\n",
    "        return l, sum(l)\n",
    "    \n",
    "    def avg_pop(self, pop):\n",
    "        return np.average([self.evaluate(x)[1] for x in pop])\n",
    "    \n",
    "    def get_best_sol(self, pop):\n",
    "        best_index = 0\n",
    "        best_fitness = self.evaluate(pop[0])[1]\n",
    "        for i in range(1, len(pop)):\n",
    "            current = self.evaluate(pop[0])[1]\n",
    "            if (current > best_fitness):\n",
    "                best_index = i\n",
    "                best_fitness = current\n",
    "        return (best_index, best_fitness)\n",
    "    \n",
    "    \n",
    "    def order_crossover(self,p1, p2, p):\n",
    "        if not (rand() < p):\n",
    "            return p1, p2\n",
    "        size = self.ind_size\n",
    "        p1, p2 = list(p1), list(p2)\n",
    "        #(1) CHOOSE 2 CUT POINTS\n",
    "        start, end = np.sort(random.choice(range(1,size - 1), 2, replace = False))\n",
    "        c1 = [-1] * size\n",
    "        c2 = [-1] * size\n",
    "        \n",
    "        # (2) COPY BETWEEEN CUT POINTS TO OFFSPRINGS\n",
    "        c1[start:end] = p1[start:end]\n",
    "        c2[start:end] = p2[start:end]\n",
    "        \n",
    "        \n",
    "        p1_order = p1[end:] + p1[:end]\n",
    "        p2_order = p2[end:] + p2[:end]\n",
    "\n",
    "        missing_indices = np.append(range(end,size),range(0,start))\n",
    "\n",
    "        # (3) STARTING FROM 2ND CUT POINT IN ONE PARENT, FILL MISSING CITIES IN ORDER THEY APPEAR IN OTHER PARENT\n",
    "        p1_pos, p2_pos = 0, 0\n",
    "        for index in missing_indices:\n",
    "            #child 1\n",
    "            while True:\n",
    "                if(p2_order[p2_pos] not in c1):\n",
    "                    c1[index] = p2_order[p2_pos]\n",
    "                    p2_pos += 1\n",
    "                    break\n",
    "                p2_pos += 1\n",
    "            #child 2\n",
    "            while True:\n",
    "                if(p1_order[p1_pos] not in c2):\n",
    "                    c2[index] = p1_order[p1_pos]\n",
    "                    p1_pos += 1\n",
    "                    break\n",
    "                p1_pos += 1   \n",
    "             \n",
    "        return c1, c2\n",
    "    \n",
    "    def reverse_sequence_mutation(self, parent, p):\n",
    "        result = parent.copy()\n",
    "        if not (rand() < p):\n",
    "            return parent\n",
    "        size = self.ind_size\n",
    "        i1, i2 = np.sort(random.choice(range(0,size ), 2, replace = False))\n",
    "        old_parent = parent.copy()\n",
    "        result[i1] = old_parent[i2]\n",
    "        result[i2] = old_parent[i1]\n",
    "        \n",
    "        return result\n",
    "    \n",
    "    def switch_cities(self,ind,i1,i2):\n",
    "        old_ind = ind.copy()\n",
    "        new_ind = ind.copy()\n",
    "        new_ind[i1] = old_ind[i2]\n",
    "        new_ind[i2] = old_ind[i1]\n",
    "        \n",
    "        return new_ind\n",
    "    \n",
    "    def local_search_2 (self, pop):\n",
    "        new_pop = []\n",
    "        for ind in pop:\n",
    "            \n",
    "            sol = ind.copy()\n",
    "#            \n",
    "            for i in range(0,self.ind_size-1):\n",
    "                neighbors = [sol] \n",
    "                #index of next city:\n",
    "                index = i+1\n",
    "                indices = random.choice(range(0, self.ind_size ), self.n_neighbors, replace = False)\n",
    "                for j in indices:\n",
    "                    #print(neighbors)\n",
    "                    neighbors.append(self.switch_cities(sol,index, j))\n",
    "                neighbor_values = [self.evaluate(x)[1] for x in neighbors]\n",
    "#                 print(f'dit zijn mijn neighbors: {neighbors}')\n",
    "                sol = neighbors[np.argmin(neighbor_values)]\n",
    "#                 print(f'dit is mijn nieuwe solution: {sol}')\n",
    "#                 print('**')\n",
    "            new_pop.append(sol)\n",
    "        return new_pop\n",
    "    \n",
    "    def opt2 (self, parent):\n",
    "        existing_route = list(parent.copy())\n",
    "        best_distance = self.evaluate(existing_route)[1]\n",
    "        for i in range(len(parent)-3):\n",
    "            for j in range(i+2, len(parent)-1):\n",
    "                edge1 = [i, i+1]\n",
    "                edge2 = [j, j+1]\n",
    "                #reverse the part between the two edges\n",
    "                rev = list(reversed(existing_route[edge1[1]:edge2[1]]))\n",
    "                new_route = existing_route[:edge1[1]] + rev + existing_route[edge2[1]:] \n",
    "                new_distance = self.evaluate(new_route)[1]\n",
    "                if(new_distance < best_distance): \n",
    "                    existing_route = new_route\n",
    "                    best_distance = new_distance\n",
    "        return existing_route\n",
    "        \n",
    "    \n",
    "    def local_search (self, parents):\n",
    "        new_parents = []\n",
    "        for parent in parents:\n",
    "            new_parents.append(self.opt2(parent))\n",
    "        return new_parents\n",
    "        \n",
    "    def plot_hist(self):\n",
    "        return self.hist\n",
    "        \n",
    "    def run(self):   \n",
    "        \n",
    "#         test = [[1,2,3,4,5,6,7,8]]\n",
    "#         new_test = self.local_search_2(test)\n",
    "        \n",
    "#         print(test, new_test)\n",
    "        self.generate_pop()\n",
    "        #self.pop = np.array(self.local_search_2(self.pop))\n",
    "        for i in range(self.n_iterations):\n",
    "            print(f'ik ben bij iteratie {i+1}')\n",
    "            \n",
    "            new_pop = self.tournament(self.k)\n",
    "            \n",
    "            #select parents for reproduction\n",
    "           \n",
    "            \n",
    "            for j in range(0, len(new_pop), 2):\n",
    "                p1 = self.pop[j]\n",
    "                p2 = self.pop[j+1]\n",
    "                \n",
    "                #recombine selected parents\n",
    "                c1, c2 = self.order_crossover(p1,p2, self.crossover_prob)\n",
    "                \n",
    "                #mutate the resulting individuals\n",
    "                c1 = self.reverse_sequence_mutation(c1, self.mutation_prob)\n",
    "                c2 = self.reverse_sequence_mutation(c2, self.mutation_prob)\n",
    "\n",
    "                \n",
    "                new_pop[j] = c1\n",
    "                new_pop[j+1] = c2\n",
    "            #LOCAL SEARCH\n",
    "            new_pop = self.local_search(new_pop)\n",
    "            \n",
    "            \n",
    "            best_index, best_fitness = self.get_best_sol(self.pop)\n",
    "            self.hist.append((best_fitness, self.pop[best_index]))\n",
    "            \n",
    "            new_index, new_fitness = self.get_best_sol(np.array(new_pop))\n",
    "            #if(new_fitness < best_fitness):\n",
    "            self.pop = np.array(new_pop)\n",
    "                "
   ]
  },
  {
   "cell_type": "code",
   "execution_count": 74,
   "metadata": {},
   "outputs": [],
   "source": [
    "g = GA(ind_size=50, n_iterations = 6, mutation_prob=0.8, pop_size=100, crossover_prob=0.8, n_neighbors = 3, k=2)"
   ]
  },
  {
   "cell_type": "code",
   "execution_count": 75,
   "metadata": {},
   "outputs": [
    {
     "name": "stdout",
     "output_type": "stream",
     "text": [
      "ik ben bij iteratie 1\n",
      "ik ben bij iteratie 2\n",
      "ik ben bij iteratie 3\n",
      "ik ben bij iteratie 4\n",
      "ik ben bij iteratie 5\n",
      "ik ben bij iteratie 6\n"
     ]
    }
   ],
   "source": [
    "g.run()"
   ]
  },
  {
   "cell_type": "code",
   "execution_count": 76,
   "metadata": {},
   "outputs": [
    {
     "name": "stdout",
     "output_type": "stream",
     "text": [
      "best fitness: 130.17919547546123 epoch: 3\n"
     ]
    }
   ],
   "source": [
    "best_fitness, best_solutions = [x[0] for x in g.plot_hist()], [x[1] for x in g.plot_hist()]\n",
    "best_solution = best_solutions[np.argmin(best_fitness)]\n",
    "print(f'best fitness: {np.min(best_fitness)} epoch: {np.argmin(best_fitness)}')"
   ]
  },
  {
   "cell_type": "code",
   "execution_count": 77,
   "metadata": {},
   "outputs": [
    {
     "data": {
      "image/png": "[encoded data removed]",
      "text/plain": [
       "<Figure size 432x288 with 1 Axes>"
      ]
     },
     "metadata": {},
     "output_type": "display_data"
    }
   ],
   "source": [
    "plt.plot(range(len(best_fitness)), [x for x in best_fitness])\n",
    "plt.show()"
   ]
  },
  {
   "cell_type": "code",
   "execution_count": 78,
   "metadata": {},
   "outputs": [],
   "source": [
    "def plotfunc(seq, locs):\n",
    "    sortlocs = [locs[_ind] for _ind in seq]\n",
    "    xs = [loc[0] for loc in sortlocs]\n",
    "    ys = [loc[1] for loc in sortlocs]\n",
    "    \n",
    "    plt.figure(0)\n",
    "    plt.scatter(xs, ys)\n",
    "    plt.plot(xs, ys)\n",
    "    plt.show()\n",
    "    \n"
   ]
  },
  {
   "cell_type": "code",
   "execution_count": 79,
   "metadata": {},
   "outputs": [
    {
     "data": {
      "image/png": "[encoded data removed]",
      "text/plain": [
       "<Figure size 432x288 with 1 Axes>"
      ]
     },
     "metadata": {},
     "output_type": "display_data"
    }
   ],
   "source": [
    "locs = np.loadtxt('file-tsp.txt')\n",
    "#locs = test_data\n",
    "plotfunc(best_solution, locs)"
   ]
  },
  {
   "cell_type": "code",
   "execution_count": 275,
   "metadata": {},
   "outputs": [
    {
     "data": {
      "text/plain": [
       "85"
      ]
     },
     "execution_count": 275,
     "metadata": {},
     "output_type": "execute_result"
    }
   ],
   "source": [
    "np.argmin(best_fitness)"
   ]
  },
  {
   "cell_type": "code",
   "execution_count": 72,
   "metadata": {},
   "outputs": [],
   "source": [
    "points = [[1,2], [3,4]]"
   ]
  },
  {
   "cell_type": "code",
   "execution_count": 76,
   "metadata": {},
   "outputs": [
    {
     "data": {
      "text/plain": [
       "<generator object <genexpr> at 0x00000201469DA5C8>"
      ]
     },
     "execution_count": 76,
     "metadata": {},
     "output_type": "execute_result"
    }
   ],
   "source": [
    "(np.abs(func(x)[0] - func[1]) for x in points)"
   ]
  },
  {
   "cell_type": "code",
   "execution_count": 105,
   "metadata": {},
   "outputs": [
    {
     "data": {
      "text/plain": [
       "[1, 2, 3]"
      ]
     },
     "execution_count": 105,
     "metadata": {},
     "output_type": "execute_result"
    }
   ],
   "source": [
    "def ls_opt(x, i, k):\n",
    "     return x[i:k]\n",
    "    \n",
    "ls_opt([0,1,2,3,4,5,6,7], 1,4)"
   ]
  },
  {
   "cell_type": "code",
   "execution_count": 92,
   "metadata": {},
   "outputs": [],
   "source": [
    "data =[[-1.0, 0.0000],[-0.9, -0.1629],[-0.8, -0.2624],[-0.7, -0.3129],[-0.6, -0.3264],[-0.5, -0.3125],[-0.4, -0.2784],\n",
    "        [-0.3, -0.2289], [-0.2, -0.1664],[-0.1, -0.0909],[0, 0.0],[0.1, 0.1111],[0.2, 0.2496],[0.3, 0.4251],[0.4, 0.6496],\n",
    "        [0.5, 0.9375], [0.6, 1.3056],[0.7, 1.7731],[0.8, 2.3616],[0.9, 3.0951],[1.0, 4.0000]]"
   ]
  },
  {
   "cell_type": "code",
   "execution_count": 99,
   "metadata": {},
   "outputs": [],
   "source": [
    "def fun(x):\n",
    "    return (x+1) * (x+ x**3 )\n"
   ]
  },
  {
   "cell_type": "code",
   "execution_count": 100,
   "metadata": {},
   "outputs": [
    {
     "data": {
      "text/plain": [
       "[-0.0,\n",
       " -0.16289999999999996,\n",
       " -0.2624,\n",
       " -0.3129,\n",
       " -0.3264,\n",
       " -0.3125,\n",
       " -0.2784,\n",
       " -0.22889999999999996,\n",
       " -0.16640000000000002,\n",
       " -0.09090000000000001,\n",
       " 0,\n",
       " 0.11110000000000002,\n",
       " 0.24960000000000002,\n",
       " 0.4251,\n",
       " 0.6496,\n",
       " 0.9375,\n",
       " 1.3056,\n",
       " 1.7731,\n",
       " 2.3616000000000006,\n",
       " 3.0951,\n",
       " 4.0]"
      ]
     },
     "execution_count": 100,
     "metadata": {},
     "output_type": "execute_result"
    }
   ],
   "source": [
    "[fun(x[0]) for x in data]"
   ]
  },
  {
   "cell_type": "code",
   "execution_count": 81,
   "metadata": {},
   "outputs": [],
   "source": [
    "import math"
   ]
  },
  {
   "cell_type": "code",
   "execution_count": 83,
   "metadata": {},
   "outputs": [
    {
     "ename": "ValueError",
     "evalue": "math domain error",
     "output_type": "error",
     "traceback": [
      "\u001b[1;31m---------------------------------------------------------------------------\u001b[0m",
      "\u001b[1;31mValueError\u001b[0m                                Traceback (most recent call last)",
      "\u001b[1;32m<ipython-input-83-9c647e6d3f04>\u001b[0m in \u001b[0;36m<module>\u001b[1;34m\u001b[0m\n\u001b[1;32m----> 1\u001b[1;33m \u001b[0mmath\u001b[0m\u001b[1;33m.\u001b[0m\u001b[0mlog\u001b[0m\u001b[1;33m(\u001b[0m\u001b[1;36m2\u001b[0m\u001b[1;33m,\u001b[0m\u001b[1;33m-\u001b[0m\u001b[1;36m2\u001b[0m\u001b[1;33m)\u001b[0m\u001b[1;33m\u001b[0m\u001b[1;33m\u001b[0m\u001b[0m\n\u001b[0m",
      "\u001b[1;31mValueError\u001b[0m: math domain error"
     ]
    }
   ],
   "source": [
    "math.log(2,-2)"
   ]
  },
  {
   "cell_type": "code",
   "execution_count": 84,
   "metadata": {},
   "outputs": [],
   "source": [
    "?math.log"
   ]
  },
  {
   "cell_type": "code",
   "execution_count": 87,
   "metadata": {},
   "outputs": [
    {
     "data": {
      "text/plain": [
       "2.718281828459045"
      ]
     },
     "execution_count": 87,
     "metadata": {},
     "output_type": "execute_result"
    }
   ],
   "source": [
    "math.exp(1)"
   ]
  },
  {
   "cell_type": "code",
   "execution_count": 88,
   "metadata": {},
   "outputs": [],
   "source": [
    "math.exp?"
   ]
  },
  {
   "cell_type": "code",
   "execution_count": null,
   "metadata": {},
   "outputs": [],
   "source": []
  }
 ],
 "metadata": {
  "kernelspec": {
   "display_name": "Python 3",
   "language": "python",
   "name": "python3"
  },
  "language_info": {
   "codemirror_mode": {
    "name": "ipython",
    "version": 3
   },
   "file_extension": ".py",
   "mimetype": "text/x-python",
   "name": "python",
   "nbconvert_exporter": "python",
   "pygments_lexer": "ipython3",
   "version": "3.7.6"
  }
 },
 "nbformat": 4,
 "nbformat_minor": 4
}
