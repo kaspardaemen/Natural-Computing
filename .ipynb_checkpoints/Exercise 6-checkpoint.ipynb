{
 "cells": [
  {
   "cell_type": "code",
   "execution_count": 1,
   "metadata": {},
   "outputs": [],
   "source": [
    "from numpy import random\n",
    "import matplotlib.pyplot as plt\n",
    "import seaborn as sns\n",
    "import numpy as np\n",
    "sns.set()\n",
    "np.random.seed(666)\n",
    "from random import sample \n",
    "from deap import tools"
   ]
  },
  {
   "cell_type": "code",
   "execution_count": 12,
   "metadata": {},
   "outputs": [],
   "source": [
    "class GA():\n",
    "    def __init__(self,k=2,pop_size=100, ind_size=8, n_iterations = 50):\n",
    "        self.k = k\n",
    "        self.pop_size = pop_size\n",
    "        self.ind_size = ind_size\n",
    "        self.hist = []\n",
    "        self.data = np.loadtxt('file-tsp.txt')\n",
    "        self.n_iterations = n_iterations\n",
    "        \n",
    "        self.generate_pop()\n",
    "    \n",
    "    def generate_pop(self):\n",
    "        self.pop =  [random.permutation([i for i in range(0,self.ind_size)]) for x in range(self.pop_size) ]\n",
    "        \n",
    "    def tournament(self):\n",
    "        new_pop = []\n",
    "        for i in range(self.pop_size):\n",
    "            candidates = random.choice(self.pop, 2, replace=True)\n",
    "\n",
    "            fittest =  candidates[0] if self.evaluate(candidates[0]) < self.evaluate(candidates[1]) else candidates[1]\n",
    "            new_pop.append(fittest)\n",
    "        return new_pop\n",
    "    \n",
    "    def evaluate(self,ind):\n",
    "        l = []\n",
    "        for i in range(self.ind_size-1):\n",
    "\n",
    "            dist = np.linalg.norm(self.data[ind[i]]-self.data[ind[i+1]])    \n",
    "            l.append(dist)\n",
    "        return l, sum(l)\n",
    "    \n",
    "    def avg_pop(self):\n",
    "        return np.average([self.evaluate(x)[1] for x in self.pop])\n",
    "    \n",
    "        \n",
    "    \n",
    "    def order_crossover(self,p1, p2):\n",
    "        #\n",
    "        size = self.ind_size\n",
    "        start, end = np.sort(random.choice(range(1,size - 1), 2, replace = False))\n",
    "        print(f'p1: {p1}\\np2: {p2}')\n",
    "        print(f'start: {start}, end: {end}')\n",
    "        c1 = [-1] * size\n",
    "        c2 = [-1] * size\n",
    "        c1[start:end] = p1[start:end]\n",
    "        c2[start:end] = p2[start:end]\n",
    "        \n",
    "        \n",
    "        p1_order = p1[end:] + p1[:end]\n",
    "        p2_order = p2[end:] + p2[:end]\n",
    "\n",
    "        missing_indices = np.append(range(end,size),range(0,start))\n",
    "\n",
    "        #filling in the missing cities\n",
    "        p1_pos, p2_pos = 0, 0\n",
    "        for index in missing_indices:\n",
    "            #child 1\n",
    "            while True:\n",
    "                if(p2_order[p2_pos] not in c1):\n",
    "                    c1[index] = p2_order[p2_pos]\n",
    "                    p2_pos += 1\n",
    "                    break\n",
    "                p2_pos += 1\n",
    "            #child 2\n",
    "            while True:\n",
    "                if(p1_order[p1_pos] not in c2):\n",
    "                    c2[index] = p1_order[p1_pos]\n",
    "                    p1_pos += 1\n",
    "                    break\n",
    "                p1_pos += 1   \n",
    "             \n",
    "        return c1, c2\n",
    "        \n",
    "        \n",
    "    def run(self):\n",
    "        #print(self.avg_pop())\n",
    "        #for i in range(self.n_iterations):\n",
    "        #self.pop = self.tournament()\n",
    "        p1 = list(self.pop[0])\n",
    "        p2 = list(self.pop[1])\n",
    "        \n",
    "        \n",
    "        \n",
    "        c1, c2 = self.order_crossover(p1,p2)\n",
    "        \n",
    "        print(f'c1: {c1}\\nc2 {c2}')\n",
    "        \n",
    "    \n",
    "        \n",
    "        "
   ]
  },
  {
   "cell_type": "code",
   "execution_count": 13,
   "metadata": {},
   "outputs": [],
   "source": [
    "g = GA(ind_size=8)"
   ]
  },
  {
   "cell_type": "code",
   "execution_count": 14,
   "metadata": {},
   "outputs": [
    {
     "name": "stdout",
     "output_type": "stream",
     "text": [
      "p1: [1, 2, 0, 6, 3, 4, 5, 7]\n",
      "p2: [1, 5, 4, 7, 2, 3, 6, 0]\n",
      "start: 1, end: 5\n",
      "c1: [7, 2, 0, 6, 3, 1, 5, 4]\n",
      "c2 [3, 5, 4, 7, 2, 1, 0, 6]\n"
     ]
    }
   ],
   "source": [
    "g.run()"
   ]
  },
  {
   "cell_type": "code",
   "execution_count": null,
   "metadata": {},
   "outputs": [],
   "source": []
  }
 ],
 "metadata": {
  "kernelspec": {
   "display_name": "Python 3",
   "language": "python",
   "name": "python3"
  },
  "language_info": {
   "codemirror_mode": {
    "name": "ipython",
    "version": 3
   },
   "file_extension": ".py",
   "mimetype": "text/x-python",
   "name": "python",
   "nbconvert_exporter": "python",
   "pygments_lexer": "ipython3",
   "version": "3.7.6"
  }
 },
 "nbformat": 4,
 "nbformat_minor": 4
}
