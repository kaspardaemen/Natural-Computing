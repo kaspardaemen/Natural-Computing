{
 "cells": [
  {
   "cell_type": "markdown",
   "metadata": {},
   "source": [
    "## Excercise 5\n",
    "\n",
    "### For this exercise you can choose to use random forests or AdaBoost. (If you are interested, feel free to compare both methods, but this is not required for the assignment.) \n",
    "\n",
    "#### For your method of choice, find out what widely used implementations are available in your favourite programming language and apply the method to a prediction problem you find interesting (see, for instance the UCI Machine Learning repository for interesting datasets). "
   ]
  },
  {
   "cell_type": "code",
   "execution_count": 1,
   "metadata": {},
   "outputs": [],
   "source": [
    "from sklearn.ensemble import AdaBoostClassifier \n",
    "from sklearn.model_selection import train_test_split\n",
    "\n",
    "from matplotlib import pyplot as plt\n",
    "\n",
    "from sklearn.datasets import load_iris\n",
    "from sklearn.datasets import load_wine"
   ]
  },
  {
   "cell_type": "code",
   "execution_count": 18,
   "metadata": {},
   "outputs": [],
   "source": [
    "x = load_iris()['data']\n",
    "y = load_iris()['target']\n",
    "names = load_iris()['target_names']\n",
    "\n",
    "\n",
    "x_train, x_test, y_train, y_test = train_test_split(x, y, test_size = 0.25, random_state = 666)\n"
   ]
  },
  {
   "cell_type": "code",
   "execution_count": 19,
   "metadata": {},
   "outputs": [
    {
     "name": "stdout",
     "output_type": "stream",
     "text": [
      "x_train: [[5.2 4.1 1.5 0.1]\n",
      " [6.2 2.2 4.5 1.5]\n",
      " [7.3 2.9 6.3 1.8]\n",
      " [6.4 3.2 5.3 2.3]\n",
      " [6.  3.4 4.5 1.6]\n",
      " [5.2 2.7 3.9 1.4]\n",
      " [5.4 3.7 1.5 0.2]\n",
      " [5.3 3.7 1.5 0.2]\n",
      " [5.  3.5 1.6 0.6]\n",
      " [4.4 2.9 1.4 0.2]\n",
      " [5.8 2.7 3.9 1.2]\n",
      " [5.2 3.4 1.4 0.2]\n",
      " [4.6 3.4 1.4 0.3]\n",
      " [6.5 3.2 5.1 2. ]\n",
      " [5.7 2.9 4.2 1.3]\n",
      " [6.6 3.  4.4 1.4]\n",
      " [6.  2.9 4.5 1.5]\n",
      " [4.7 3.2 1.6 0.2]\n",
      " [4.9 3.6 1.4 0.1]\n",
      " [6.7 3.1 5.6 2.4]\n",
      " [6.3 2.7 4.9 1.8]\n",
      " [6.1 2.8 4.7 1.2]\n",
      " [6.2 2.8 4.8 1.8]\n",
      " [5.7 4.4 1.5 0.4]\n",
      " [6.3 2.5 4.9 1.5]\n",
      " [6.4 2.9 4.3 1.3]\n",
      " [5.1 3.8 1.9 0.4]\n",
      " [6.8 2.8 4.8 1.4]\n",
      " [5.1 3.5 1.4 0.3]\n",
      " [4.3 3.  1.1 0.1]\n",
      " [5.9 3.  5.1 1.8]\n",
      " [6.4 2.8 5.6 2.1]\n",
      " [5.6 2.8 4.9 2. ]\n",
      " [5.5 2.4 3.7 1. ]\n",
      " [6.9 3.1 4.9 1.5]\n",
      " [6.3 3.4 5.6 2.4]\n",
      " [6.5 3.  5.8 2.2]\n",
      " [5.7 3.8 1.7 0.3]\n",
      " [6.6 2.9 4.6 1.3]\n",
      " [6.7 3.3 5.7 2.5]\n",
      " [4.8 3.  1.4 0.1]\n",
      " [5.  3.6 1.4 0.2]\n",
      " [6.  3.  4.8 1.8]\n",
      " [5.  3.  1.6 0.2]\n",
      " [6.1 3.  4.9 1.8]\n",
      " [6.4 3.1 5.5 1.8]\n",
      " [5.1 3.7 1.5 0.4]\n",
      " [5.7 3.  4.2 1.2]\n",
      " [5.  3.5 1.3 0.3]\n",
      " [5.1 3.8 1.5 0.3]\n",
      " [4.6 3.2 1.4 0.2]\n",
      " [5.4 3.  4.5 1.5]\n",
      " [6.5 2.8 4.6 1.5]\n",
      " [6.1 2.8 4.  1.3]\n",
      " [4.8 3.4 1.6 0.2]\n",
      " [5.1 3.3 1.7 0.5]\n",
      " [5.8 2.7 5.1 1.9]\n",
      " [5.6 3.  4.1 1.3]\n",
      " [6.3 2.8 5.1 1.5]\n",
      " [6.7 3.3 5.7 2.1]\n",
      " [7.2 3.  5.8 1.6]\n",
      " [6.7 3.  5.2 2.3]\n",
      " [4.9 3.1 1.5 0.1]\n",
      " [4.9 2.5 4.5 1.7]\n",
      " [5.7 2.5 5.  2. ]\n",
      " [4.9 2.4 3.3 1. ]\n",
      " [5.5 2.4 3.8 1.1]\n",
      " [6.7 2.5 5.8 1.8]\n",
      " [6.5 3.  5.5 1.8]\n",
      " [5.7 2.6 3.5 1. ]\n",
      " [6.  2.2 5.  1.5]\n",
      " [6.7 3.1 4.7 1.5]\n",
      " [4.9 3.1 1.5 0.2]\n",
      " [6.3 2.5 5.  1.9]\n",
      " [4.7 3.2 1.3 0.2]\n",
      " [6.  2.7 5.1 1.6]\n",
      " [5.8 2.6 4.  1.2]\n",
      " [6.9 3.2 5.7 2.3]\n",
      " [4.4 3.  1.3 0.2]\n",
      " [7.1 3.  5.9 2.1]\n",
      " [6.8 3.2 5.9 2.3]\n",
      " [5.2 3.5 1.5 0.2]\n",
      " [7.9 3.8 6.4 2. ]\n",
      " [6.4 2.8 5.6 2.2]\n",
      " [5.6 2.9 3.6 1.3]\n",
      " [5.5 4.2 1.4 0.2]\n",
      " [4.8 3.  1.4 0.3]\n",
      " [6.3 2.9 5.6 1.8]\n",
      " [4.4 3.2 1.3 0.2]\n",
      " [5.4 3.9 1.7 0.4]\n",
      " [5.  3.4 1.6 0.4]\n",
      " [6.7 3.  5.  1.7]\n",
      " [5.4 3.9 1.3 0.4]\n",
      " [7.7 2.8 6.7 2. ]\n",
      " [5.6 2.7 4.2 1.3]\n",
      " [6.8 3.  5.5 2.1]\n",
      " [5.5 3.5 1.3 0.2]\n",
      " [4.8 3.4 1.9 0.2]\n",
      " [5.4 3.4 1.7 0.2]\n",
      " [7.7 3.8 6.7 2.2]\n",
      " [6.9 3.1 5.4 2.1]\n",
      " [5.6 2.5 3.9 1.1]\n",
      " [5.1 3.4 1.5 0.2]\n",
      " [5.1 3.8 1.6 0.2]\n",
      " [6.1 2.9 4.7 1.4]\n",
      " [5.8 4.  1.2 0.2]\n",
      " [5.  2.  3.5 1. ]\n",
      " [6.4 3.2 4.5 1.5]\n",
      " [6.1 3.  4.6 1.4]\n",
      " [5.9 3.2 4.8 1.8]\n",
      " [6.  2.2 4.  1. ]\n",
      " [7.4 2.8 6.1 1.9]]\n",
      "x_test: [[5.6 3.  4.5 1.5]\n",
      " [5.8 2.8 5.1 2.4]\n",
      " [5.  2.3 3.3 1. ]\n",
      " [5.8 2.7 5.1 1.9]\n",
      " [4.6 3.1 1.5 0.2]\n",
      " [5.5 2.5 4.  1.3]\n",
      " [5.7 2.8 4.5 1.3]\n",
      " [6.5 3.  5.2 2. ]\n",
      " [6.3 2.3 4.4 1.3]\n",
      " [5.5 2.6 4.4 1.2]\n",
      " [6.7 3.1 4.4 1.4]\n",
      " [4.5 2.3 1.3 0.3]\n",
      " [4.8 3.1 1.6 0.2]\n",
      " [5.4 3.4 1.5 0.4]\n",
      " [7.2 3.6 6.1 2.5]\n",
      " [5.8 2.7 4.1 1. ]\n",
      " [4.6 3.6 1.  0.2]\n",
      " [7.2 3.2 6.  1.8]\n",
      " [6.9 3.1 5.1 2.3]\n",
      " [6.4 2.7 5.3 1.9]\n",
      " [6.3 3.3 4.7 1.6]\n",
      " [5.  3.4 1.5 0.2]\n",
      " [7.7 2.6 6.9 2.3]\n",
      " [5.  3.3 1.4 0.2]\n",
      " [6.2 2.9 4.3 1.3]\n",
      " [5.9 3.  4.2 1.5]\n",
      " [5.  3.2 1.2 0.2]\n",
      " [5.5 2.3 4.  1.3]\n",
      " [6.3 3.3 6.  2.5]\n",
      " [7.7 3.  6.1 2.3]\n",
      " [5.1 3.5 1.4 0.2]\n",
      " [4.9 3.  1.4 0.2]\n",
      " [5.7 2.8 4.1 1.3]\n",
      " [6.2 3.4 5.4 2.3]\n",
      " [5.1 2.5 3.  1.1]\n",
      " [7.  3.2 4.7 1.4]\n",
      " [6.1 2.6 5.6 1.4]\n",
      " [7.6 3.  6.6 2.1]]\n",
      "y_train: [0 1 2 2 1 1 0 0 0 0 1 0 0 2 1 1 1 0 0 2 2 1 2 0 1 1 0 1 0 0 2 2 2 1 1 2 2\n",
      " 0 1 2 0 0 2 0 2 2 0 1 0 0 0 1 1 1 0 0 2 1 2 2 2 2 0 2 2 1 1 2 2 1 2 1 0 2\n",
      " 0 1 1 2 0 2 2 0 2 2 1 0 0 2 0 0 0 1 0 2 1 2 0 0 0 2 2 1 0 0 1 0 1 1 1 1 1\n",
      " 2]\n",
      "y_test: [1 2 1 2 0 1 1 2 1 1 1 0 0 0 2 1 0 2 2 2 1 0 2 0 1 1 0 1 2 2 0 0 1 2 1 1 2\n",
      " 2]\n",
      "names: ['setosa' 'versicolor' 'virginica']\n"
     ]
    }
   ],
   "source": [
    "# print(\"data:\", data)\n",
    "print(\"x_train:\", x_train)\n",
    "print(\"x_test:\", x_test)\n",
    "print(\"y_train:\", y_train)\n",
    "print(\"y_test:\", y_test)\n",
    "print(\"names:\", names)"
   ]
  },
  {
   "cell_type": "code",
   "execution_count": 20,
   "metadata": {},
   "outputs": [],
   "source": [
    "def ADAprediction(x_train, x_test, y_train, y_test, n_estimators, random_state, ADA = AdaBoostClassifier):\n",
    "    ADA = AdaBoostClassifier(n_estimators=n_estimators, random_state=random_state)\n",
    "    ADA.fit(x_train,y_train)\n",
    "    prediction = ADA.predict(x_test)\n",
    "    score = ADA.score(x_test,y_test)\n",
    "    \n",
    "    return prediction, score"
   ]
  },
  {
   "cell_type": "code",
   "execution_count": 21,
   "metadata": {},
   "outputs": [
    {
     "data": {
      "text/plain": [
       "(array([1, 2, 1, 2, 0, 1, 1, 2, 1, 1, 1, 0, 0, 0, 2, 1, 0, 2, 2, 2, 1, 0,\n",
       "        2, 0, 1, 1, 0, 1, 2, 2, 0, 0, 1, 2, 1, 1, 1, 2]),\n",
       " 0.9736842105263158)"
      ]
     },
     "execution_count": 21,
     "metadata": {},
     "output_type": "execute_result"
    }
   ],
   "source": [
    "ADAprediction(x_train, x_test, y_train, y_test, 2, 0)"
   ]
  },
  {
   "cell_type": "code",
   "execution_count": 22,
   "metadata": {},
   "outputs": [
    {
     "name": "stdout",
     "output_type": "stream",
     "text": [
      "[0.6052631578947368, 0.9736842105263158, 0.9736842105263158, 0.9736842105263158, 0.9736842105263158, 0.9736842105263158, 0.9736842105263158, 0.9736842105263158, 0.9736842105263158]\n"
     ]
    }
   ],
   "source": [
    "result_list_iris = []\n",
    "for i in range(1,10):\n",
    "    prediction, score = ADAprediction(x_train, x_test, y_train, y_test, i, 0)\n",
    "    result_list_iris.append(score)\n",
    "    \n",
    "print(result_list_iris)"
   ]
  },
  {
   "cell_type": "markdown",
   "metadata": {},
   "source": [
    "#### Write a short description (min. 100 words) of your findings, including what dataset and implementation you used, how you set up your experiment, what the effect of different parameter settings was, what the performance was, which variables were important et cetera."
   ]
  },
  {
   "cell_type": "markdown",
   "metadata": {},
   "source": []
  },
  {
   "cell_type": "code",
   "execution_count": 23,
   "metadata": {},
   "outputs": [],
   "source": [
    "data = load_wine()\n",
    "x = load_wine()['data']\n",
    "y = load_wine()['target']\n",
    "names = load_wine()['target_names']\n",
    "\n",
    "\n",
    "x_train, x_test, y_train, y_test = train_test_split(x, y, test_size = 0.25, random_state = 666)\n"
   ]
  },
  {
   "cell_type": "code",
   "execution_count": 24,
   "metadata": {},
   "outputs": [
    {
     "name": "stdout",
     "output_type": "stream",
     "text": [
      "x_train: [[1.187e+01 4.310e+00 2.390e+00 ... 7.500e-01 3.640e+00 3.800e+02]\n",
      " [1.345e+01 3.700e+00 2.600e+00 ... 8.500e-01 1.560e+00 6.950e+02]\n",
      " [1.208e+01 1.830e+00 2.320e+00 ... 1.080e+00 2.270e+00 4.800e+02]\n",
      " ...\n",
      " [1.434e+01 1.680e+00 2.700e+00 ... 5.700e-01 1.960e+00 6.600e+02]\n",
      " [1.371e+01 5.650e+00 2.450e+00 ... 6.400e-01 1.740e+00 7.400e+02]\n",
      " [1.286e+01 1.350e+00 2.320e+00 ... 7.600e-01 1.290e+00 6.300e+02]]\n",
      "x_test: [[1.317e+01 5.190e+00 2.320e+00 2.200e+01 9.300e+01 1.740e+00 6.300e-01\n",
      "  6.100e-01 1.550e+00 7.900e+00 6.000e-01 1.480e+00 7.250e+02]\n",
      " [1.269e+01 1.530e+00 2.260e+00 2.070e+01 8.000e+01 1.380e+00 1.460e+00\n",
      "  5.800e-01 1.620e+00 3.050e+00 9.600e-01 2.060e+00 4.950e+02]\n",
      " [1.406e+01 2.150e+00 2.610e+00 1.760e+01 1.210e+02 2.600e+00 2.510e+00\n",
      "  3.100e-01 1.250e+00 5.050e+00 1.060e+00 3.580e+00 1.295e+03]\n",
      " [1.208e+01 1.390e+00 2.500e+00 2.250e+01 8.400e+01 2.560e+00 2.290e+00\n",
      "  4.300e-01 1.040e+00 2.900e+00 9.300e-01 3.190e+00 3.850e+02]\n",
      " [1.260e+01 2.460e+00 2.200e+00 1.850e+01 9.400e+01 1.620e+00 6.600e-01\n",
      "  6.300e-01 9.400e-01 7.100e+00 7.300e-01 1.580e+00 6.950e+02]\n",
      " [1.220e+01 3.030e+00 2.320e+00 1.900e+01 9.600e+01 1.250e+00 4.900e-01\n",
      "  4.000e-01 7.300e-01 5.500e+00 6.600e-01 1.830e+00 5.100e+02]\n",
      " [1.305e+01 5.800e+00 2.130e+00 2.150e+01 8.600e+01 2.620e+00 2.650e+00\n",
      "  3.000e-01 2.010e+00 2.600e+00 7.300e-01 3.100e+00 3.800e+02]\n",
      " [1.272e+01 1.810e+00 2.200e+00 1.880e+01 8.600e+01 2.200e+00 2.530e+00\n",
      "  2.600e-01 1.770e+00 3.900e+00 1.160e+00 3.140e+00 7.140e+02]\n",
      " [1.371e+01 1.860e+00 2.360e+00 1.660e+01 1.010e+02 2.610e+00 2.880e+00\n",
      "  2.700e-01 1.690e+00 3.800e+00 1.110e+00 4.000e+00 1.035e+03]\n",
      " [1.394e+01 1.730e+00 2.270e+00 1.740e+01 1.080e+02 2.880e+00 3.540e+00\n",
      "  3.200e-01 2.080e+00 8.900e+00 1.120e+00 3.100e+00 1.260e+03]\n",
      " [1.222e+01 1.290e+00 1.940e+00 1.900e+01 9.200e+01 2.360e+00 2.040e+00\n",
      "  3.900e-01 2.080e+00 2.700e+00 8.600e-01 3.020e+00 3.120e+02]\n",
      " [1.166e+01 1.880e+00 1.920e+00 1.600e+01 9.700e+01 1.610e+00 1.570e+00\n",
      "  3.400e-01 1.150e+00 3.800e+00 1.230e+00 2.140e+00 4.280e+02]\n",
      " [1.207e+01 2.160e+00 2.170e+00 2.100e+01 8.500e+01 2.600e+00 2.650e+00\n",
      "  3.700e-01 1.350e+00 2.760e+00 8.600e-01 3.280e+00 3.780e+02]\n",
      " [1.340e+01 3.910e+00 2.480e+00 2.300e+01 1.020e+02 1.800e+00 7.500e-01\n",
      "  4.300e-01 1.410e+00 7.300e+00 7.000e-01 1.560e+00 7.500e+02]\n",
      " [1.320e+01 1.780e+00 2.140e+00 1.120e+01 1.000e+02 2.650e+00 2.760e+00\n",
      "  2.600e-01 1.280e+00 4.380e+00 1.050e+00 3.400e+00 1.050e+03]\n",
      " [1.225e+01 4.720e+00 2.540e+00 2.100e+01 8.900e+01 1.380e+00 4.700e-01\n",
      "  5.300e-01 8.000e-01 3.850e+00 7.500e-01 1.270e+00 7.200e+02]\n",
      " [1.358e+01 1.660e+00 2.360e+00 1.910e+01 1.060e+02 2.860e+00 3.190e+00\n",
      "  2.200e-01 1.950e+00 6.900e+00 1.090e+00 2.880e+00 1.515e+03]\n",
      " [1.267e+01 9.800e-01 2.240e+00 1.800e+01 9.900e+01 2.200e+00 1.940e+00\n",
      "  3.000e-01 1.460e+00 2.620e+00 1.230e+00 3.160e+00 4.500e+02]\n",
      " [1.277e+01 3.430e+00 1.980e+00 1.600e+01 8.000e+01 1.630e+00 1.250e+00\n",
      "  4.300e-01 8.300e-01 3.400e+00 7.000e-01 2.120e+00 3.720e+02]\n",
      " [1.437e+01 1.950e+00 2.500e+00 1.680e+01 1.130e+02 3.850e+00 3.490e+00\n",
      "  2.400e-01 2.180e+00 7.800e+00 8.600e-01 3.450e+00 1.480e+03]\n",
      " [1.348e+01 1.810e+00 2.410e+00 2.050e+01 1.000e+02 2.700e+00 2.980e+00\n",
      "  2.600e-01 1.860e+00 5.100e+00 1.040e+00 3.470e+00 9.200e+02]\n",
      " [1.413e+01 4.100e+00 2.740e+00 2.450e+01 9.600e+01 2.050e+00 7.600e-01\n",
      "  5.600e-01 1.350e+00 9.200e+00 6.100e-01 1.600e+00 5.600e+02]\n",
      " [1.237e+01 1.070e+00 2.100e+00 1.850e+01 8.800e+01 3.520e+00 3.750e+00\n",
      "  2.400e-01 1.950e+00 4.500e+00 1.040e+00 2.770e+00 6.600e+02]\n",
      " [1.303e+01 9.000e-01 1.710e+00 1.600e+01 8.600e+01 1.950e+00 2.030e+00\n",
      "  2.400e-01 1.460e+00 4.600e+00 1.190e+00 2.480e+00 3.920e+02]\n",
      " [1.237e+01 1.170e+00 1.920e+00 1.960e+01 7.800e+01 2.110e+00 2.000e+00\n",
      "  2.700e-01 1.040e+00 4.680e+00 1.120e+00 3.480e+00 5.100e+02]\n",
      " [1.252e+01 2.430e+00 2.170e+00 2.100e+01 8.800e+01 2.550e+00 2.270e+00\n",
      "  2.600e-01 1.220e+00 2.000e+00 9.000e-01 2.780e+00 3.250e+02]\n",
      " [1.182e+01 1.470e+00 1.990e+00 2.080e+01 8.600e+01 1.980e+00 1.600e+00\n",
      "  3.000e-01 1.530e+00 1.950e+00 9.500e-01 3.330e+00 4.950e+02]\n",
      " [1.311e+01 1.010e+00 1.700e+00 1.500e+01 7.800e+01 2.980e+00 3.180e+00\n",
      "  2.600e-01 2.280e+00 5.300e+00 1.120e+00 3.180e+00 5.020e+02]\n",
      " [1.410e+01 2.020e+00 2.400e+00 1.880e+01 1.030e+02 2.750e+00 2.920e+00\n",
      "  3.200e-01 2.380e+00 6.200e+00 1.070e+00 2.750e+00 1.060e+03]\n",
      " [1.161e+01 1.350e+00 2.700e+00 2.000e+01 9.400e+01 2.740e+00 2.920e+00\n",
      "  2.900e-01 2.490e+00 2.650e+00 9.600e-01 3.260e+00 6.800e+02]\n",
      " [1.179e+01 2.130e+00 2.780e+00 2.850e+01 9.200e+01 2.130e+00 2.240e+00\n",
      "  5.800e-01 1.760e+00 3.000e+00 9.700e-01 2.440e+00 4.660e+02]\n",
      " [1.217e+01 1.450e+00 2.530e+00 1.900e+01 1.040e+02 1.890e+00 1.750e+00\n",
      "  4.500e-01 1.030e+00 2.950e+00 1.450e+00 2.230e+00 3.550e+02]\n",
      " [1.422e+01 1.700e+00 2.300e+00 1.630e+01 1.180e+02 3.200e+00 3.000e+00\n",
      "  2.600e-01 2.030e+00 6.380e+00 9.400e-01 3.310e+00 9.700e+02]\n",
      " [1.146e+01 3.740e+00 1.820e+00 1.950e+01 1.070e+02 3.180e+00 2.580e+00\n",
      "  2.400e-01 3.580e+00 2.900e+00 7.500e-01 2.810e+00 5.620e+02]\n",
      " [1.373e+01 1.500e+00 2.700e+00 2.250e+01 1.010e+02 3.000e+00 3.250e+00\n",
      "  2.900e-01 2.380e+00 5.700e+00 1.190e+00 2.710e+00 1.285e+03]\n",
      " [1.204e+01 4.300e+00 2.380e+00 2.200e+01 8.000e+01 2.100e+00 1.750e+00\n",
      "  4.200e-01 1.350e+00 2.600e+00 7.900e-01 2.570e+00 5.800e+02]\n",
      " [1.103e+01 1.510e+00 2.200e+00 2.150e+01 8.500e+01 2.460e+00 2.170e+00\n",
      "  5.200e-01 2.010e+00 1.900e+00 1.710e+00 2.870e+00 4.070e+02]\n",
      " [1.349e+01 1.660e+00 2.240e+00 2.400e+01 8.700e+01 1.880e+00 1.840e+00\n",
      "  2.700e-01 1.030e+00 3.740e+00 9.800e-01 2.780e+00 4.720e+02]\n",
      " [1.141e+01 7.400e-01 2.500e+00 2.100e+01 8.800e+01 2.480e+00 2.010e+00\n",
      "  4.200e-01 1.440e+00 3.080e+00 1.100e+00 2.310e+00 4.340e+02]\n",
      " [1.296e+01 3.450e+00 2.350e+00 1.850e+01 1.060e+02 1.390e+00 7.000e-01\n",
      "  4.000e-01 9.400e-01 5.280e+00 6.800e-01 1.750e+00 6.750e+02]\n",
      " [1.402e+01 1.680e+00 2.210e+00 1.600e+01 9.600e+01 2.650e+00 2.330e+00\n",
      "  2.600e-01 1.980e+00 4.700e+00 1.040e+00 3.590e+00 1.035e+03]\n",
      " [1.237e+01 1.210e+00 2.560e+00 1.810e+01 9.800e+01 2.420e+00 2.650e+00\n",
      "  3.700e-01 2.080e+00 4.600e+00 1.190e+00 2.300e+00 6.780e+02]\n",
      " [1.208e+01 1.130e+00 2.510e+00 2.400e+01 7.800e+01 2.000e+00 1.580e+00\n",
      "  4.000e-01 1.400e+00 2.200e+00 1.310e+00 2.720e+00 6.300e+02]\n",
      " [1.305e+01 1.730e+00 2.040e+00 1.240e+01 9.200e+01 2.720e+00 3.270e+00\n",
      "  1.700e-01 2.910e+00 7.200e+00 1.120e+00 2.910e+00 1.150e+03]\n",
      " [1.416e+01 2.510e+00 2.480e+00 2.000e+01 9.100e+01 1.680e+00 7.000e-01\n",
      "  4.400e-01 1.240e+00 9.700e+00 6.200e-01 1.710e+00 6.600e+02]]\n",
      "y_train: [1 2 1 0 1 0 1 1 2 0 1 1 1 0 1 0 0 2 2 0 2 1 0 0 0 1 1 0 2 2 1 0 2 0 2 2 2\n",
      " 0 1 1 0 0 1 1 2 2 1 2 0 2 1 0 0 2 0 0 2 1 0 2 1 1 1 0 2 0 0 0 1 0 1 0 1 0\n",
      " 2 1 1 2 2 2 2 0 2 1 0 1 2 2 1 2 1 0 0 1 0 1 0 2 0 1 0 0 0 1 0 1 1 1 0 2 0\n",
      " 2 0 1 2 2 1 0 0 2 1 0 2 1 0 1 2 2 1 1 2 2 2]\n",
      "y_test: [2 1 0 1 2 2 1 1 0 0 1 1 1 2 0 2 0 1 1 0 0 2 1 1 1 1 1 1 0 1 1 1 0 1 0 1 1\n",
      " 1 1 2 0 1 1 0 2]\n",
      "names: ['class_0' 'class_1' 'class_2']\n"
     ]
    }
   ],
   "source": [
    "# print(\"data:\", data)\n",
    "print(\"x_train:\", x_train)\n",
    "print(\"x_test:\", x_test)\n",
    "print(\"y_train:\", y_train)\n",
    "print(\"y_test:\", y_test)\n",
    "print(\"names:\", names)"
   ]
  },
  {
   "cell_type": "code",
   "execution_count": 25,
   "metadata": {},
   "outputs": [
    {
     "data": {
      "text/plain": [
       "(array([2, 1, 0, 1, 2, 2, 1, 0, 0, 0, 1, 1, 1, 2, 0, 2, 0, 1, 1, 0, 0, 2,\n",
       "        1, 1, 1, 1, 1, 1, 0, 1, 1, 1, 0, 1, 0, 1, 1, 1, 1, 2, 0, 1, 1, 0,\n",
       "        2]),\n",
       " 0.9777777777777777)"
      ]
     },
     "execution_count": 25,
     "metadata": {},
     "output_type": "execute_result"
    }
   ],
   "source": [
    "ADAprediction(x_train, x_test, y_train, y_test, 7, 0)\n",
    "# at 7 classifiers, the score maximizes, more classifiers do not improve the score any further\n",
    "# TODO visualise this in a graph\n",
    "\n",
    "#question moet de train test split ook per ingewikkelder, of is dit goed zo?"
   ]
  },
  {
   "cell_type": "code",
   "execution_count": 26,
   "metadata": {},
   "outputs": [
    {
     "name": "stdout",
     "output_type": "stream",
     "text": [
      "[0.6444444444444445, 0.8222222222222222, 0.7555555555555555, 0.8222222222222222, 0.9555555555555556, 0.9555555555555556, 0.9777777777777777, 0.9777777777777777, 0.9777777777777777]\n"
     ]
    }
   ],
   "source": [
    "result_list_wine = []\n",
    "for i in range(1,10):\n",
    "    prediction, score = ADAprediction(x_train, x_test, y_train, y_test, i, 0)\n",
    "    result_list_wine.append(score)\n",
    "    \n",
    "print(result_list_wine)"
   ]
  },
  {
   "cell_type": "code",
   "execution_count": 39,
   "metadata": {},
   "outputs": [
    {
     "data": {
      "image/png": "[encoded data removed]",
      "text/plain": [
       "<Figure size 432x288 with 1 Axes>"
      ]
     },
     "metadata": {
      "needs_background": "light"
     },
     "output_type": "display_data"
    }
   ],
   "source": [
    "plt.plot(result_list_wine, 'red', result_list_iris, 'blue')\n",
    "# plt.label('The influence of the number of estimators on the prediction score for the adaboost implementation')\n",
    "plt.xlabel('Number of estimators')\n",
    "plt.ylabel('Score')\n",
    "plt.legend([\"Wine\", \"Iris\"])\n",
    "plt.title('The influence of the number of estimators on the prediction score for the adaboost implementation', fontsize=16)\n",
    "plt.show()"
   ]
  },
  {
   "cell_type": "code",
   "execution_count": null,
   "metadata": {},
   "outputs": [],
   "source": []
  }
 ],
 "metadata": {
  "kernelspec": {
   "display_name": "Python 3",
   "language": "python",
   "name": "python3"
  },
  "language_info": {
   "codemirror_mode": {
    "name": "ipython",
    "version": 3
   },
   "file_extension": ".py",
   "mimetype": "text/x-python",
   "name": "python",
   "nbconvert_exporter": "python",
   "pygments_lexer": "ipython3",
   "version": "3.8.5"
  }
 },
 "nbformat": 4,
 "nbformat_minor": 4
}
