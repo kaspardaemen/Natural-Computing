{
 "cells": [
  {
   "cell_type": "code",
   "execution_count": 1,
   "metadata": {},
   "outputs": [],
   "source": [
    "from numpy import random\n",
    "import matplotlib.pyplot as plt\n",
    "import seaborn as sns\n",
    "import numpy as np\n",
    "sns.set()\n",
    "np.random.seed(666)\n",
    "from random import sample \n",
    "from deap import tools"
   ]
  },
  {
   "cell_type": "code",
   "execution_count": 85,
   "metadata": {},
   "outputs": [],
   "source": [
    "class GA():\n",
    "    def __init__(self,k=2,pop_size=100, ind_size=8, n_iterations = 50):\n",
    "        self.k = k\n",
    "        self.pop_size = pop_size\n",
    "        self.ind_size = ind_size\n",
    "        self.hist = []\n",
    "        self.data = np.loadtxt('file-tsp.txt')\n",
    "        self.n_iterations = n_iterations\n",
    "        \n",
    "        self.generate_pop()\n",
    "    \n",
    "    def generate_pop(self):\n",
    "        self.pop =  [random.permutation([i for i in range(0,self.ind_size)]) for x in range(self.pop_size) ]\n",
    "        \n",
    "    def tournament(self):\n",
    "        new_pop = []\n",
    "        for i in range(self.pop_size):\n",
    "            candidates = random.choice(self.pop, 2, replace=True)\n",
    "\n",
    "            fittest =  candidates[0] if self.evaluate(candidates[0]) < self.evaluate(candidates[1]) else candidates[1]\n",
    "            new_pop.append(fittest)\n",
    "        return new_pop\n",
    "    \n",
    "    def evaluate(self,ind):\n",
    "        l = []\n",
    "        for i in range(self.ind_size-1):\n",
    "\n",
    "            dist = np.linalg.norm(self.data[ind[i]]-self.data[ind[i+1]])    \n",
    "            l.append(dist)\n",
    "        return l, sum(l)\n",
    "    \n",
    "    def avg_pop(self):\n",
    "        return np.average([self.evaluate(x)[1] for x in self.pop])\n",
    "    \n",
    "        \n",
    "    \n",
    "    def order_crossover(self,p1, p2):\n",
    "        #\n",
    "        size = self.ind_size\n",
    "        start, end = np.sort(random.choice(range(1,size - 1), 2, replace = False))\n",
    "        print(f'p1: {p1}\\np2: {p2}')\n",
    "        print(f'start: {start}, end: {end}')\n",
    "        c1 = [-1] * 8\n",
    "        c2 = [-1] * 8\n",
    "        c1[start:end] = p1[start:end]\n",
    "        c2[start:end] = p2[start:end]\n",
    "\n",
    "        p1_order = p1[end:] + p1[:end]\n",
    "        p2_order = p2[end:] + p2[:end]\n",
    "\n",
    "        missing_indices = np.append(range(end,size),range(0,start))\n",
    "\n",
    "\n",
    "        pos = 0\n",
    "        for index in missing_indices:\n",
    "            while True:\n",
    "                if(p2_order[pos] not in c1):\n",
    "                    c1[index] = p2_order[pos]\n",
    "                    pos += 1\n",
    "                    break\n",
    "                pos += 1\n",
    "        pos = 0\n",
    "        \n",
    "        for index in missing_indices:\n",
    "            while True:\n",
    "                if(p1_order[pos] not in c2):\n",
    "                    c2[index] = p1_order[pos]\n",
    "                    pos += 1\n",
    "                    break\n",
    "                pos += 1    \n",
    "        return c1, c2\n",
    "        \n",
    "        \n",
    "    def run(self):\n",
    "        #print(self.avg_pop())\n",
    "        #for i in range(self.n_iterations):\n",
    "        #self.pop = self.tournament()\n",
    "        p1 = list(self.pop[0])\n",
    "        p2 = list(self.pop[1])\n",
    "        \n",
    "        \n",
    "        \n",
    "        c1, c2 = self.order_crossover(p1,p2)\n",
    "        \n",
    "        print(f'c1: {c1}\\nc2 {c2}')\n",
    "        \n",
    "    \n",
    "        \n",
    "        "
   ]
  },
  {
   "cell_type": "code",
   "execution_count": 86,
   "metadata": {},
   "outputs": [],
   "source": [
    "g = GA()"
   ]
  },
  {
   "cell_type": "code",
   "execution_count": 87,
   "metadata": {},
   "outputs": [
    {
     "name": "stdout",
     "output_type": "stream",
     "text": [
      "p1: [1, 2, 0, 6, 3, 5, 4, 7]\n",
      "p2: [1, 5, 7, 3, 0, 4, 2, 6]\n",
      "start: 1, end: 2\n",
      "c1: [5, 2, 7, 3, 0, 4, 6, 1]\n",
      "c2 [2, 5, 0, 6, 3, 4, 7, 1]\n"
     ]
    }
   ],
   "source": [
    "g.run()"
   ]
  }
 ],
 "metadata": {
  "kernelspec": {
   "display_name": "Python 3",
   "language": "python",
   "name": "python3"
  },
  "language_info": {
   "codemirror_mode": {
    "name": "ipython",
    "version": 3
   },
   "file_extension": ".py",
   "mimetype": "text/x-python",
   "name": "python",
   "nbconvert_exporter": "python",
   "pygments_lexer": "ipython3",
   "version": "3.7.6"
  }
 },
 "nbformat": 4,
 "nbformat_minor": 4
}
