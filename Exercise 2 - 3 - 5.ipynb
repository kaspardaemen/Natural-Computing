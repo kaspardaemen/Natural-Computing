{
 "cells": [
  {
   "cell_type": "markdown",
   "id": "numeric-apollo",
   "metadata": {},
   "source": [
    "# Exercise 2\n"
   ]
  },
  {
   "cell_type": "markdown",
   "id": "affecting-findings",
   "metadata": {},
   "source": [
    "The problem has to be a problem in which a combination of two semi-good solutions not necessarily guarantee a better result. \n",
    "Perhaps the traveling salesman problem (TSP). Since two routes can both consist of a large part of the optimal solution, but then a combination of the two does not necessarily entail a better solution, as the cut-off point of the two solutions is chosen randomly, and therefore has a large chance of cutting the well-chosen part of the solution in half. Recombination then results in a worse result than both of the separate solutions. "
   ]
  },
  {
   "cell_type": "markdown",
   "id": "applicable-religion",
   "metadata": {},
   "source": [
    "# Exercise 3"
   ]
  },
  {
   "cell_type": "markdown",
   "id": "forced-latitude",
   "metadata": {},
   "source": [
    "$f$($x$) = $x^2$\n",
    "\n",
    "| $x$ value | $f$($x$) | $f_i$ $\\Sigma$ $f$ | Expected Number |\n",
    "|---|------|--------------------------|-----------------|\n",
    "| 2 | 4    | 0.138                    | 0.414           |\n",
    "| 3 | 9    | 0.310                    | 0.93            |\n",
    "| 4 | 16   | 0.552                    | 1.656           |\n",
    "\n",
    "$f_1$($x$) = $f$($x$) + 20\n",
    "\n",
    "| $x$ value | $f$($x$) | $f_i$ $\\Sigma$ $f$ | Expected Number |\n",
    "|---|------|--------------------------|-----------------|\n",
    "| 2 | 24    | 0.270                    | 0.81           |\n",
    "| 3 | 99    | 0.336                    | 1.008            |\n",
    "| 4 | 36   | 0.405                   | 1.215         |\n",
    "\n",
    "### Scaling\n",
    "High selection pressure means a large emphasis on the fitness of the organism to survive. If there is a large difference between individuals in terms of fitness, then it is very unlikely for the individuals with lower fitness to pass on to the next generation. Therefore the fitness function which introduces a large difference between individuals in terms of fitness values forces a high selection pressure. In this case we see that the scaling of the function results in the same individuals closing in on each other in terms of expected number, compared to the original function. Therefore the scaled function yields a lower selection pressure than the original function. Scaling the fitness function results in the same changes happening to each individual regardless of their individual fitness, making the fitness value less important. Therefore scaling the fitness function takes away from the selection pressure."
   ]
  },
  {
   "cell_type": "markdown",
   "id": "powerful-spectrum",
   "metadata": {},
   "source": [
    "# Exercise 5"
   ]
  },
  {
   "cell_type": "markdown",
   "id": "frequent-heating",
   "metadata": {},
   "source": [
    "In a (1+5)-strategy every iteration generates five mutated versions of the current individual, and subsequently evaluates their and the current individual's respective fitness values. The candidate with the best fitness is then chosen to continue to the next iteration. In a (1+1)-strategy only one mutated version is generated and then its fitness value is compared to that of the current individual to determine which of the two will pass on to the next iteration. Logically in terms of search space both strategies consider candidates that are quite locally present in the search space of the current candidate, as only one mutation step is performed to alter the candidate. However since in the (1+5)-strategy 5 different candidates are generated out of 5 random mutations, the search space is explored much faster, and more fit individuals therefore have a higher chance to be discovered more quickly compared to when only one mutation occurs. Replacing 5 with $\\lambda$ results in the (1+5)-strategy to be turned into the (1+$\\lambda$)-strategy. The (1+$\\lambda$)-strategy can be said to mimic the approach of greedy algorithms in looking for an optimal result. As mentioned above the candidates that are considered can be considered local, as they are reached through only one manipulation, making them neighbors. Greedy algorithms also only consider those options that are reachable from the current iteration of the program, not looking further into the future. From these options it then chooses the one with the best value to become the new position. This is done by (1+$\\lambda$)-strategy as well, if you substitute a large enough number for lambda such that there is a very small chance of missing the actual most optimal mutated version of the current individual. If it is chosen such that it almost guaranteed to always find the locally most optimal mutation, then this strategy is essentially the same as the greedy algorithm strategy."
   ]
  },
  {
   "cell_type": "code",
   "execution_count": null,
   "id": "musical-arthritis",
   "metadata": {},
   "outputs": [],
   "source": []
  }
 ],
 "metadata": {
  "kernelspec": {
   "display_name": "Python 3",
   "language": "python",
   "name": "python3"
  },
  "language_info": {
   "codemirror_mode": {
    "name": "ipython",
    "version": 3
   },
   "file_extension": ".py",
   "mimetype": "text/x-python",
   "name": "python",
   "nbconvert_exporter": "python",
   "pygments_lexer": "ipython3",
   "version": "3.9.1"
  }
 },
 "nbformat": 4,
 "nbformat_minor": 5
}
