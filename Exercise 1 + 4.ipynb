{
 "cells": [
  {
   "cell_type": "markdown",
   "metadata": {},
   "source": [
    "## Exercise 1\n",
    "\n",
    "$A1 = #0##01###$    ,$l(A1)=9, o(A1)=4$\n",
    "\n",
    "$A2 = ##010#111$      ,$l(A2)=9, o(A2)=6$\n",
    "\n",
    "$p_m = 0.01$\n",
    "\n",
    "Prob. of surviving mutations: $S_m(H) = (1 - p_m)^{o(H)}$\n",
    "\n",
    "$S_m(A1) = (1-0.01)^4 = 0.99^4 \\approx 0.96 $\n",
    "\n",
    "$S_m(A2) = (1-0.01)^6 = 0.99^6 \\approx 0.94 $\n",
    "\n",
    "So the probability of surviving the mutation is higher for schema A1 than schema A2 since $S_m(A1) \\gt S_m(A2)$"
   ]
  },
  {
   "cell_type": "code",
   "execution_count": 3,
   "metadata": {},
   "outputs": [
    {
     "data": {
      "text/plain": [
       "0.941480149401"
      ]
     },
     "execution_count": 3,
     "metadata": {},
     "output_type": "execute_result"
    }
   ],
   "source": [
    "ps_a1 = (1-0.01)**4\n",
    "ps_a2 = (1-0.01)**6"
   ]
  },
  {
   "cell_type": "markdown",
   "metadata": {},
   "source": [
    "## Exercise 4"
   ]
  },
  {
   "cell_type": "code",
   "execution_count": null,
   "metadata": {},
   "outputs": [],
   "source": []
  }
 ],
 "metadata": {
  "kernelspec": {
   "display_name": "Python 3",
   "language": "python",
   "name": "python3"
  },
  "language_info": {
   "codemirror_mode": {
    "name": "ipython",
    "version": 3
   },
   "file_extension": ".py",
   "mimetype": "text/x-python",
   "name": "python",
   "nbconvert_exporter": "python",
   "pygments_lexer": "ipython3",
   "version": "3.7.6"
  }
 },
 "nbformat": 4,
 "nbformat_minor": 4
}
