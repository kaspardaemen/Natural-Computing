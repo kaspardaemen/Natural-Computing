{
 "cells": [
  {
   "cell_type": "markdown",
   "metadata": {},
   "source": [
    "# Excercise 7\n",
    "Give a suitable function, terminal set and s-expression for the following logical and mathematical formulas.\n",
    "\n",
    "## 7.A. $(Y \\land True) \\rightarrow ((X \\lor Y) \\lor (Z \\leftrightarrow (X \\land Y))) $\n",
    "### 7.A.1. Function \n",
    "$\\{\\lor, \\rightarrow, \\land, \\leftrightarrow \\} $\n",
    "### 7.A.2. Terminal set\n",
    "$ \\{ Y, True, X, Z \\}$\n",
    "### 7.A.3. S-Expression\n",
    "$ (\\rightarrow\\ (\\land\\ Y\\ True)\\ ( \\lor\\ (\\lor\\ (\\ X\\ Y\\ ) \\ (\\leftrightarrow\\ Z\\ (\\land\\ X\\ Y\\ ))))$\n",
    "\n",
    "## 7.B. $ 0.234 * Z + X - 0.789 $\n",
    "### 7.B.1. Function \n",
    "$ \\{ *, +, - \\}$\n",
    "### 7.B.2. Terminal set\n",
    "$ \\{ Z, X, 0.234, 0,789\\} $\n",
    "### 7.B.3. S-Expression\n",
    "$( +\\ (*\\ 0.234\\ Z\\ )\\ (-\\ X\\ 0.789)) $\n"
   ]
  },
  {
   "cell_type": "markdown",
   "metadata": {},
   "source": [
    "# Excercise 8\n",
    "Implement a GP program for finding a symbolic expression that fits the following data:                           \n",
    "\n",
    "|(Input) DependentVariable  | Y(Output) |\n",
    "| ------------------------- | ----------|\n",
    "| −1.0                      | 0.0000    |\n",
    "| −0.9                      | −0.1629   |\n",
    "| −0.8                      | −0.2624   | \n",
    "| −0.7                      | −0.3129   |\n",
    "| −0.6                      | −0.3264   |\n",
    "| −0.5                      | −0.3125   |\n",
    "| −0.4                      | −0.2784   |\n",
    "| −0.3                      | −0.2289   |\n",
    "| −0.2                      | −0.1664   |\n",
    "| −0.1                      | −0.0909   |\n",
    "|  0                        |    0.0    |\n",
    "|  0.1                      |  0.1111   |\n",
    "|  0.2                      |   0.2496  |\n",
    "|  0.3                      |   0.4251  |\n",
    "|  0.4                      |   0.6496  |\n",
    "|  0.5                      |   0.9375  |\n",
    "|  0.6                      |   1.3056  |\n",
    "|  0.7                      |   1.7731  |\n",
    "|  0.8                      |   2.3616  |\n",
    "|  0.9                      |   3.0951  |\n",
    "|  1.0                      |   4.0000  |\n",
    "\n",
    "With the following parameter settings:   \n",
    "- population size: 1000, \n",
    "- function set: {+, −, ∗, log, exp, sin, cos, div}, \n",
    "- terminal set: x, \n",
    "- number of generations 50, \n",
    "- crossover probability 0.7, \n",
    "- mutation probability: 0, \n",
    "- fitness: - sum of absolute errors\n",
    "\n",
    "You can use an existing GP framework:   \n",
    "see for instance list of implementation frameworks mentioned in the syllabus. \n",
    "Plot the following:\n",
    "- (a) best of generation fitness (y-axis) versus generation (x-axis). \n",
    "- (b) best of generation size (y-axis) versus generation (x-axis). \n",
    "\n",
    "Can you observe any undesirable phenomenon from these plots? In case of positive answer, how would you try to overcome the related problem (you can refer to the literature).\n",
    "\n"
   ]
  },
  {
   "cell_type": "code",
   "execution_count": 1,
   "metadata": {},
   "outputs": [
    {
     "name": "stdout",
     "output_type": "stream",
     "text": [
      "   \t      \t                        fitness                         \t                      size                     \n",
      "   \t      \t--------------------------------------------------------\t-----------------------------------------------\n",
      "gen\tnevals\tavg    \tgen\tmax    \tmin     \tnevals\tstd     \tavg \tgen\tmax\tmin\tnevals\tstd    \n",
      "0  \t100   \t1.09632\t0  \t3.26088\t0.442563\t100   \t0.493144\t3.33\t0  \t7  \t2  \t100   \t1.25742\n",
      "1  \t62    \t0.905687\t1  \t3.64902\t0.442563\t62    \t0.415036\t3.25\t1  \t7  \t2  \t62    \t1.08972\n",
      "2  \t76    \t0.819868\t2  \t2.60793\t0.259679\t76    \t0.343079\t3.22\t2  \t6  \t2  \t76    \t0.954777\n",
      "3  \t68    \t0.709892\t3  \t2.2683 \t0.259679\t68    \t0.246304\t3.27\t3  \t6  \t2  \t68    \t1.18199 \n",
      "4  \t68    \t0.67634 \t4  \t1.60793\t0.259679\t68    \t0.242736\t3.63\t4  \t7  \t2  \t68    \t1.30119 \n",
      "5  \t62    \t0.690111\t5  \t2.86353\t0.259679\t62    \t0.404785\t4.12\t5  \t7  \t2  \t62    \t1.49853 \n",
      "6  \t68    \t0.682547\t6  \t3.05595\t0.202237\t68    \t0.476269\t4.83\t6  \t7  \t2  \t68    \t1.23333 \n",
      "7  \t68    \t0.75228 \t7  \t3.40297\t0.202237\t68    \t0.663337\t5.25\t7  \t8  \t3  \t68    \t1.10793 \n",
      "8  \t58    \t0.630221\t8  \t3.40297\t0.202237\t58    \t0.629786\t5.2 \t8  \t8  \t4  \t58    \t0.938083\n",
      "9  \t64    \t0.671157\t9  \t2.93498\t0.202237\t64    \t0.614515\t4.97\t9  \t8  \t3  \t64    \t1.05314 \n",
      "10 \t68    \t0.623925\t10 \t2.89585\t0.202237\t68    \t0.609144\t4.84\t10 \t7  \t3  \t68    \t0.833307\n",
      "11 \t76    \t0.581852\t11 \t2.35945\t0.202237\t76    \t0.494108\t4.58\t11 \t7  \t3  \t76    \t0.826801\n",
      "12 \t64    \t0.629594\t12 \t2.89585\t0.202237\t64    \t0.602315\t4.39\t12 \t6  \t3  \t64    \t0.81111 \n",
      "13 \t62    \t0.530422\t13 \t2.89585\t0.202237\t62    \t0.569737\t4.17\t13 \t6  \t3  \t62    \t0.749066\n",
      "14 \t60    \t0.417391\t14 \t1.94189\t0.202237\t60    \t0.427743\t4.11\t14 \t6  \t3  \t60    \t0.545802\n",
      "15 \t80    \t0.578437\t15 \t1.94189\t0.202237\t80    \t0.558934\t4.02\t15 \t5  \t3  \t80    \t0.616117\n",
      "16 \t68    \t0.593248\t16 \t1.94189\t0.202237\t68    \t0.550739\t3.95\t16 \t5  \t3  \t68    \t0.622495\n",
      "17 \t74    \t0.562506\t17 \t1.94189\t0.202237\t74    \t0.54398 \t3.97\t17 \t5  \t3  \t74    \t0.607536\n",
      "18 \t72    \t0.568039\t18 \t1.94189\t0.202237\t72    \t0.516527\t3.94\t18 \t5  \t3  \t72    \t0.629603\n",
      "19 \t64    \t0.581077\t19 \t1.94189\t0.202237\t64    \t0.554749\t3.95\t19 \t5  \t3  \t64    \t0.622495\n",
      "20 \t70    \t0.542195\t20 \t1.94189\t0.202237\t70    \t0.510363\t4   \t20 \t5  \t3  \t70    \t0.6     \n",
      "21 \t74    \t0.510034\t21 \t1.94189\t0.202237\t74    \t0.475153\t3.93\t21 \t5  \t3  \t74    \t0.587452\n",
      "22 \t62    \t0.465069\t22 \t1.94189\t0.202237\t62    \t0.471151\t3.93\t22 \t5  \t3  \t62    \t0.533948\n",
      "23 \t76    \t0.558429\t23 \t1.94189\t0.202237\t76    \t0.57761 \t3.98\t23 \t5  \t3  \t76    \t0.582752\n",
      "24 \t66    \t0.423849\t24 \t1.94189\t0.202237\t66    \t0.475009\t3.98\t24 \t5  \t3  \t66    \t0.468615\n",
      "25 \t74    \t0.49461 \t25 \t1.94189\t0.202237\t74    \t0.552823\t3.99\t25 \t5  \t3  \t74    \t0.519519\n",
      "26 \t76    \t0.447342\t26 \t1.94189\t0.202237\t76    \t0.498648\t3.98\t26 \t5  \t3  \t76    \t0.48949 \n",
      "27 \t78    \t0.597299\t27 \t1.94189\t0.202237\t78    \t0.574597\t3.99\t27 \t5  \t3  \t78    \t0.62442 \n",
      "28 \t68    \t0.561049\t28 \t1.94189\t0.202237\t68    \t0.535968\t3.99\t28 \t5  \t3  \t68    \t0.608194\n",
      "29 \t66    \t0.430557\t29 \t1.94189\t0.202237\t66    \t0.439104\t3.92\t29 \t5  \t3  \t66    \t0.503587\n",
      "30 \t66    \t0.599037\t30 \t1.94189\t0.202237\t66    \t0.594048\t3.98\t30 \t5  \t3  \t66    \t0.616117\n",
      "31 \t78    \t0.523073\t31 \t1.94189\t0.202237\t78    \t0.517908\t3.94\t31 \t5  \t3  \t78    \t0.58    \n",
      "32 \t64    \t0.489455\t32 \t1.94189\t0.202237\t64    \t0.472691\t3.89\t32 \t5  \t3  \t64    \t0.563826\n",
      "33 \t68    \t0.60921 \t33 \t1.94189\t0.202237\t68    \t0.560032\t3.96\t33 \t5  \t3  \t68    \t0.646838\n",
      "34 \t78    \t0.479833\t34 \t1.94189\t0.202237\t78    \t0.489155\t3.99\t34 \t5  \t3  \t78    \t0.538424\n",
      "35 \t80    \t0.528558\t35 \t1.94189\t0.202237\t80    \t0.549469\t3.98\t35 \t5  \t3  \t80    \t0.565332\n",
      "36 \t66    \t0.383241\t36 \t1.94189\t0.202237\t66    \t0.438344\t3.98\t36 \t5  \t3  \t66    \t0.423792\n",
      "37 \t72    \t0.591202\t37 \t1.94189\t0.202237\t72    \t0.575522\t4   \t37 \t5  \t3  \t72    \t0.616441\n",
      "38 \t62    \t0.502494\t38 \t1.94189\t0.202237\t62    \t0.51617 \t3.9 \t38 \t5  \t3  \t62    \t0.556776\n",
      "39 \t66    \t0.517258\t39 \t1.94189\t0.202237\t66    \t0.531617\t3.96\t39 \t5  \t3  \t66    \t0.564269\n",
      "40 \t76    \t0.632985\t40 \t1.94189\t0.202237\t76    \t0.584899\t3.97\t40 \t5  \t3  \t76    \t0.655057\n",
      "41 \t60    \t0.509295\t41 \t6.97416\t0.202237\t60    \t0.788282\t3.95\t41 \t6  \t3  \t60    \t0.554527\n",
      "42 \t68    \t0.556972\t42 \t1.94189\t0.202237\t68    \t0.57006 \t4   \t42 \t5  \t3  \t68    \t0.583095\n",
      "43 \t66    \t0.506522\t43 \t1.94189\t0.202237\t66    \t0.539938\t3.96\t43 \t5  \t3  \t66    \t0.54626 \n",
      "44 \t78    \t0.448235\t44 \t1.94189\t0.202237\t78    \t0.478642\t3.94\t44 \t5  \t3  \t78    \t0.50636 \n",
      "45 \t74    \t0.626888\t45 \t1.94189\t0.202237\t74    \t0.586178\t3.98\t45 \t5  \t3  \t74    \t0.647765\n",
      "46 \t76    \t0.549749\t46 \t1.94189\t0.202237\t76    \t0.518359\t3.97\t46 \t5  \t3  \t76    \t0.607536\n",
      "47 \t60    \t0.486365\t47 \t6.97416\t0.202237\t60    \t0.793585\t3.97\t47 \t6  \t3  \t60    \t0.518748\n",
      "48 \t76    \t0.450243\t48 \t1.94189\t0.202237\t76    \t0.465969\t4   \t48 \t5  \t3  \t76    \t0.509902\n",
      "49 \t72    \t0.517821\t49 \t1.94189\t0.202237\t72    \t0.557741\t3.98\t49 \t5  \t3  \t72    \t0.547357\n",
      "50 \t64    \t0.592095\t50 \t1.94189\t0.202237\t64    \t0.558047\t3.96\t50 \t5  \t3  \t64    \t0.631189\n"
     ]
    }
   ],
   "source": [
    "#This solution has been based on code from: https://deap.readthedocs.io/en/master/examples/gp_symbreg.html\n",
    "\n",
    "import deap.gp as gp\n",
    "from deap import creator \n",
    "from deap import base\n",
    "from deap import creator\n",
    "from deap import tools\n",
    "import numpy as np\n",
    "import operator\n",
    "import math\n",
    "import random\n",
    "import deap.algorithms as algorithms\n",
    "\n",
    "data =[[-1.0, 0.0000],[-0.9, -0.1629],[-0.8, -0.2624],[-0.7, -0.3129],[-0.6, -0.3264],[-0.5, -0.3125],[-0.4, -0.2784],\n",
    "        [-0.3, -0.2289], [-0.2, -0.1664],[-0.1, -0.0909],[0, 0.0],[0.1, 0.1111],[0.2, 0.2496],[0.3, 0.4251],[0.4, 0.6496],\n",
    "        [0.5, 0.9375], [0.6, 1.3056],[0.7, 1.7731],[0.8, 2.3616],[0.9, 3.0951],[1.0, 4.0000]]\n",
    "\n",
    "def protectedDiv(left, right):\n",
    "    try:\n",
    "        return left / right\n",
    "    except ZeroDivisionError:\n",
    "        return 1\n",
    "    \n",
    "def protectedLog(base):\n",
    "    try: \n",
    "        return math.log(base)\n",
    "    except ValueError:\n",
    "        return 1\n",
    "    \n",
    "\n",
    "pset = gp.PrimitiveSet(\"MAIN\", 1)\n",
    "pset.addPrimitive(operator.add, 2)\n",
    "pset.addPrimitive(operator.sub, 2)\n",
    "pset.addPrimitive(operator.mul, 2)\n",
    "pset.addPrimitive(protectedDiv, 2)\n",
    "pset.addPrimitive(math.cos, 1)\n",
    "pset.addPrimitive(math.sin, 1)\n",
    "pset.addPrimitive(math.exp, 1)\n",
    "pset.addPrimitive(protectedLog, 1)\n",
    "pset.addEphemeralConstant(\"A\", lambda: random.randint(-1,1))\n",
    "\n",
    "\n",
    "pset.renameArguments(ARG0='x')\n",
    "\n",
    "creator.create(\"FitnessMin\", base.Fitness, weights=(-1.0,))\n",
    "creator.create(\"Individual\", gp.PrimitiveTree, fitness=creator.FitnessMin)\n",
    "\n",
    "toolbox = base.Toolbox()\n",
    "toolbox.register(\"expr\", gp.genHalfAndHalf, pset=pset, min_=1, max_=2)\n",
    "toolbox.register(\"individual\", tools.initIterate, creator.Individual, toolbox.expr)\n",
    "toolbox.register(\"population\", tools.initRepeat, list, toolbox.individual)\n",
    "toolbox.register(\"compile\", gp.compile, pset=pset)\n",
    "\n",
    "def evalSymbReg(individual, points):\n",
    "    # Transform the tree expression in a callable function\n",
    "    func = toolbox.compile(expr=individual)\n",
    "    # our custom absolute error function\n",
    "    abserrors = (np.abs(func(x[0]) - x[1]) for x in points)\n",
    "    #print(points)\n",
    "    return math.fsum(abserrors) / len(points),\n",
    "\n",
    "toolbox.register(\"evaluate\", evalSymbReg, points=data)\n",
    "toolbox.register(\"select\", tools.selTournament, tournsize=3)\n",
    "toolbox.register(\"mate\", gp.cxOnePoint)\n",
    "toolbox.register(\"expr_mut\", gp.genFull, min_=0, max_=2)\n",
    "toolbox.register(\"mutate\", gp.mutUniform, expr=toolbox.expr_mut, pset=pset)\n",
    "\n",
    "toolbox.decorate(\"mate\", gp.staticLimit(key=operator.attrgetter(\"height\"), max_value=17))\n",
    "toolbox.decorate(\"mutate\", gp.staticLimit(key=operator.attrgetter(\"height\"), max_value=17))\n",
    "\n",
    "stats_fit = tools.Statistics(lambda ind: ind.fitness.values)\n",
    "stats_size = tools.Statistics(len)\n",
    "mstats = tools.MultiStatistics(fitness=stats_fit, size=stats_size)\n",
    "mstats.register(\"avg\", np.mean)\n",
    "mstats.register(\"std\", np.std)\n",
    "mstats.register(\"min\", np.min)\n",
    "mstats.register(\"max\", np.max)\n",
    "    \n",
    "pop = toolbox.population(n=100)\n",
    "hof = tools.HallOfFame(1) \n",
    "pop, log = algorithms.eaSimple(pop, toolbox, 0.7, 0, 50, stats=mstats,\n",
    "                                       halloffame=hof, verbose=True)\n",
    "\n",
    "\n",
    "\n",
    "#plot min fitness (a) \n",
    "#plot min size (b)\n"
   ]
  },
  {
   "cell_type": "code",
   "execution_count": 2,
   "metadata": {},
   "outputs": [
    {
     "data": {
      "text/plain": [
       "[<matplotlib.lines.Line2D at 0x22a2e616460>]"
      ]
     },
     "execution_count": 2,
     "metadata": {},
     "output_type": "execute_result"
    },
    {
     "data": {
      "image/png": "[encoded data removed]",
      "text/plain": [
       "<Figure size 432x288 with 1 Axes>"
      ]
     },
     "metadata": {
      "needs_background": "light"
     },
     "output_type": "display_data"
    }
   ],
   "source": [
    "import matplotlib.pyplot as plt\n",
    "\n",
    "plt.title(\"The best generational fitness per generation\")\n",
    "plt.xlabel(\"Generation\")\n",
    "plt.ylabel(\"Best fitness\")\n",
    "plt.plot(log.select(\"gen\"), log.chapters[\"fitness\"].select(\"min\"), linewidth=2.0)"
   ]
  },
  {
   "cell_type": "code",
   "execution_count": 3,
   "metadata": {},
   "outputs": [
    {
     "data": {
      "text/plain": [
       "[<matplotlib.lines.Line2D at 0x22a2e7052e0>]"
      ]
     },
     "execution_count": 3,
     "metadata": {},
     "output_type": "execute_result"
    },
    {
     "data": {
      "image/png": "[encoded data removed]",
      "text/plain": [
       "<Figure size 432x288 with 1 Axes>"
      ]
     },
     "metadata": {
      "needs_background": "light"
     },
     "output_type": "display_data"
    }
   ],
   "source": [
    "plt.title(\"The best generational size per generation\")\n",
    "plt.xlabel(\"Generation\")\n",
    "plt.ylabel(\"Best size\")\n",
    "plt.plot(log.select(\"gen\"), log.chapters[\"size\"].select(\"min\"), linewidth=2.0)"
   ]
  },
  {
   "cell_type": "markdown",
   "metadata": {},
   "source": [
    "#### Can you observe any undesirable phenomenon from these plots? \n",
    "The model converges in one generation, and then does not converge any further.\n",
    "#### In case of positive answer, how would you try to overcome the related problem (you can refer to the literature)\n",
    "By making use of mutations, where a subtree is replaced by a new randomly generated tree, we can get the network out of a local minimum for better convergence. "
   ]
  },
  {
   "cell_type": "code",
   "execution_count": null,
   "metadata": {},
   "outputs": [],
   "source": []
  }
 ],
 "metadata": {
  "kernelspec": {
   "display_name": "Python 3",
   "language": "python",
   "name": "python3"
  },
  "language_info": {
   "codemirror_mode": {
    "name": "ipython",
    "version": 3
   },
   "file_extension": ".py",
   "mimetype": "text/x-python",
   "name": "python",
   "nbconvert_exporter": "python",
   "pygments_lexer": "ipython3",
   "version": "3.8.5"
  }
 },
 "nbformat": 4,
 "nbformat_minor": 4
}
