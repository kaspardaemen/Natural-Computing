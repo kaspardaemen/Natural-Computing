{
 "cells": [
  {
   "cell_type": "code",
   "execution_count": 1,
   "metadata": {},
   "outputs": [],
   "source": [
    "from sklearn.datasets import load_iris\n",
    "from sklearn.model_selection import train_test_split\n",
    "import numpy as np\n",
    "import sklearn.cluster as clu\n",
    "\n",
    "import pandas as pd\n",
    "import seaborn as sb\n",
    "import matplotlib.pyplot as plt\n",
    "np.random.seed(666)\n",
    "\n"
   ]
  },
  {
   "cell_type": "code",
   "execution_count": 2,
   "metadata": {},
   "outputs": [],
   "source": [
    "iris_x = load_iris()['data']\n",
    "iris_y = load_iris()['target']"
   ]
  },
  {
   "cell_type": "code",
   "execution_count": 24,
   "metadata": {},
   "outputs": [
    {
     "name": "stdout",
     "output_type": "stream",
     "text": [
      "[0 0 0 0 0 0 0 0 0 0 0 0 0 0 0 0 0 0 0 0 0 0 0 0 0 0 0 0 0 0 0 0 0 0 0 0 0\n",
      " 0 0 0 0 0 0 0 0 0 0 0 0 0 1 1 1 1 1 1 1 1 1 1 1 1 1 1 1 1 1 1 1 1 1 1 1 1\n",
      " 1 1 1 1 1 1 1 1 1 1 1 1 1 1 1 1 1 1 1 1 1 1 1 1 1 1 2 2 2 2 2 2 2 2 2 2 2\n",
      " 2 2 2 2 2 2 2 2 2 2 2 2 2 2 2 2 2 2 2 2 2 2 2 2 2 2 2 2 2 2 2 2 2 2 2 2 2\n",
      " 2 2]\n"
     ]
    }
   ],
   "source": [
    "print(iris_y)"
   ]
  },
  {
   "cell_type": "code",
   "execution_count": 4,
   "metadata": {},
   "outputs": [],
   "source": [
    "def kmeans(data, k):\n",
    "    kmeans = clu.KMeans(n_clusters=k).fit(data)\n",
    "    #TODO: moet dit nog itereren of doet hij dat zelf? --> zou hij zelf moeten doen toch? \n",
    "\n",
    "    clusterid=kmeans.labels_\n",
    "    clusteroids=kmeans.cluster_centers_\n",
    "\n"
   ]
  },
  {
   "cell_type": "code",
   "execution_count": 5,
   "metadata": {},
   "outputs": [],
   "source": [
    "kmeans(iris_x,4)"
   ]
  },
  {
   "cell_type": "code",
   "execution_count": 6,
   "metadata": {},
   "outputs": [
    {
     "ename": "NameError",
     "evalue": "name 'clusterid' is not defined",
     "output_type": "error",
     "traceback": [
      "\u001b[1;31m---------------------------------------------------------------------------\u001b[0m",
      "\u001b[1;31mNameError\u001b[0m                                 Traceback (most recent call last)",
      "\u001b[1;32m<ipython-input-6-06b918cd3c26>\u001b[0m in \u001b[0;36m<module>\u001b[1;34m\u001b[0m\n\u001b[1;32m----> 1\u001b[1;33m \u001b[0mprint\u001b[0m\u001b[1;33m(\u001b[0m\u001b[0mclusterid\u001b[0m\u001b[1;33m)\u001b[0m\u001b[1;33m\u001b[0m\u001b[1;33m\u001b[0m\u001b[0m\n\u001b[0m\u001b[0;32m      2\u001b[0m \u001b[0mprint\u001b[0m\u001b[1;33m(\u001b[0m\u001b[0mclusteroids\u001b[0m\u001b[1;33m)\u001b[0m\u001b[1;33m\u001b[0m\u001b[1;33m\u001b[0m\u001b[0m\n\u001b[0;32m      3\u001b[0m \u001b[1;31m# is dit wat we hier nodig hebben?\u001b[0m\u001b[1;33m\u001b[0m\u001b[1;33m\u001b[0m\u001b[1;33m\u001b[0m\u001b[0m\n",
      "\u001b[1;31mNameError\u001b[0m: name 'clusterid' is not defined"
     ]
    }
   ],
   "source": [
    "print(clusterid)\n",
    "print(clusteroids)\n",
    "# is dit wat we hier nodig hebben?"
   ]
  },
  {
   "cell_type": "code",
   "execution_count": null,
   "metadata": {},
   "outputs": [],
   "source": [
    "def dataclustering(data, x, n):\n",
    "    #x= number of particles\n",
    "    #n= number of centroids\n",
    "    np.random.seed(666)\n",
    "    initialisation = np.random.randint(0,100, size=(x, n))\n",
    "    #is het erg dat deze random values tussen 0 en 1 liggen, hoe kan ik ze in de hele mogelijke range leggen (bv tss 1 en 4)?\n",
    "    \n",
    "    counter = 0\n",
    "    particles = initialisation\n",
    "    clusterlist = []\n",
    "    particlelist = []\n",
    "    \n",
    "    for particle in particles:\n",
    "        \n",
    "        for z in data:\n",
    "            distance = abs(particle-z) #absolute hier pakken is goed toch? anders wordt kleinste distance niet gepakt\n",
    "            print(distance)\n",
    "            closest = np.argpartition(distance,0)[0]\n",
    "            print(closest)\n",
    "            clusterlist.append(closest) \n",
    "        particlelist.append(clusterlist) #different list of 150 closest clusters for each particle\n",
    "        clusterlist = []\n",
    "        print(particlelist) \n",
    "        \n",
    "        \n",
    "# def computefitness(): \n",
    "        \n",
    "        \n",
    "############################# moet het mss niet andersom?  \n",
    "#per punt kijken welke cluster het dichtste bij is ipv per cluster kijken welk punt?       \n",
    "        \n",
    "#     initialisation = np.random.randint(0,100, size=(x, n))\n",
    "#     #is het erg dat deze random values tussen 0 en 1 liggen, hoe kan ik ze in de hele mogelijke range leggen (bv tss 1 en 4)?\n",
    "    \n",
    "#     counter = 0\n",
    "#     particles = initialisation\n",
    "#     clusterlist = []\n",
    "    \n",
    "#     for z in data:\n",
    "#         best_distance = 1000 #hoe dit aanpakken? \n",
    "#         best particle\n",
    "#         for particle in particles:\n",
    "#             distance = abs(particle-z) #absolute hier pakken is goed toch? anders wordt kleinste distance niet gepakt\n",
    "            \n",
    "#             if distance < best_distance:\n",
    "#                 best_distance = distance\n",
    "            \n",
    "#             print(distance)\n",
    "#             closest = np.argpartition(distance,0)[0]\n",
    "#             print(closest)\n",
    "#             clusterlist.append(closest)\n",
    "#         print(clusterlist) \n",
    "            \n",
    "            \n",
    "            \n",
    "            \n",
    "        \n",
    "        \n",
    "        \n",
    "#         distance = data[counter]-x\n",
    "#         print(counter)\n",
    "#         counter += 1\n",
    "#         print(distance)\n",
    "        \n",
    "#         z= np.argpartition()\n",
    "        \n",
    "        #return distance\n",
    "    \n",
    "#     counter = 0\n",
    "    \n",
    "#     for x in initialisation:\n",
    "#         counter += 1\n",
    "#         print(counter)\n",
    "        \n",
    "#         for z in data:\n",
    "#             #best_dist = 0\n",
    "#             #compute the pairwise distance e.g. between z1 and x1\n",
    "#             distance = z-x \n",
    "            \n",
    "            \n",
    "            \n",
    "#             sum(distance)\n",
    "#             if sum(distance) < best_dist:\n",
    "                \n",
    "#             print(distance)\n",
    "#             sum(x)\n",
    "        \n",
    "\n",
    "        \n",
    "    \n",
    "    \n",
    "        \n",
    "    \n",
    "# def calculateBestDist(,datapoint):\n",
    "    \n",
    "    "
   ]
  },
  {
   "cell_type": "code",
   "execution_count": 7,
   "metadata": {},
   "outputs": [
    {
     "ename": "NameError",
     "evalue": "name 'dataclustering' is not defined",
     "output_type": "error",
     "traceback": [
      "\u001b[1;31m---------------------------------------------------------------------------\u001b[0m",
      "\u001b[1;31mNameError\u001b[0m                                 Traceback (most recent call last)",
      "\u001b[1;32m<ipython-input-7-535047d52607>\u001b[0m in \u001b[0;36m<module>\u001b[1;34m\u001b[0m\n\u001b[1;32m----> 1\u001b[1;33m \u001b[0ma\u001b[0m \u001b[1;33m=\u001b[0m \u001b[0mdataclustering\u001b[0m\u001b[1;33m(\u001b[0m\u001b[0miris_x\u001b[0m\u001b[1;33m,\u001b[0m\u001b[1;36m10\u001b[0m\u001b[1;33m,\u001b[0m\u001b[1;36m4\u001b[0m\u001b[1;33m)\u001b[0m\u001b[1;33m\u001b[0m\u001b[1;33m\u001b[0m\u001b[0m\n\u001b[0m\u001b[0;32m      2\u001b[0m \u001b[0mprint\u001b[0m\u001b[1;33m(\u001b[0m\u001b[0ma\u001b[0m\u001b[1;33m)\u001b[0m\u001b[1;33m\u001b[0m\u001b[1;33m\u001b[0m\u001b[0m\n",
      "\u001b[1;31mNameError\u001b[0m: name 'dataclustering' is not defined"
     ]
    }
   ],
   "source": [
    "a = dataclustering(iris_x,10,4)\n",
    "print(a)"
   ]
  },
  {
   "cell_type": "code",
   "execution_count": 8,
   "metadata": {},
   "outputs": [
    {
     "name": "stdout",
     "output_type": "stream",
     "text": [
      "[6 3 0 0]\n",
      "19\n",
      "2\n"
     ]
    }
   ],
   "source": [
    "a = np.array([7,5,3,4])\n",
    "b=np.array([1,2,3,4])\n",
    "print(a-b)\n",
    "print(sum(a))\n",
    "print(np.argpartition(a,1)[0])"
   ]
  },
  {
   "cell_type": "code",
   "execution_count": 35,
   "metadata": {},
   "outputs": [
    {
     "name": "stdout",
     "output_type": "stream",
     "text": [
      "0\n",
      "[0    5.006\n",
      "1    3.428\n",
      "2    1.462\n",
      "3    0.246\n",
      "dtype: float64, 0    6.447561\n",
      "1    2.943902\n",
      "2    5.150000\n",
      "3    1.780488\n",
      "dtype: float64, 0    5.416667\n",
      "1    2.544444\n",
      "2    3.794444\n",
      "3    1.200000\n",
      "dtype: float64]\n",
      "       0    1    2    3  closest\n",
      "0    5.1  3.5  1.4  0.2        1\n",
      "1    4.9  3.0  1.4  0.2        1\n",
      "2    4.7  3.2  1.3  0.2        1\n",
      "3    4.6  3.1  1.5  0.2        1\n",
      "4    5.0  3.6  1.4  0.2        1\n",
      "..   ...  ...  ...  ...      ...\n",
      "145  6.7  3.0  5.2  2.3        2\n",
      "146  6.3  2.5  5.0  1.9        2\n",
      "147  6.5  3.0  5.2  2.0        2\n",
      "148  6.2  3.4  5.4  2.3        2\n",
      "149  5.9  3.0  5.1  1.8        2\n",
      "\n",
      "[150 rows x 5 columns]\n",
      "       0    1    2    3  closest\n",
      "0    5.1  3.5  1.4  0.2        1\n",
      "1    4.9  3.0  1.4  0.2        1\n",
      "2    4.7  3.2  1.3  0.2        1\n",
      "3    4.6  3.1  1.5  0.2        1\n",
      "4    5.0  3.6  1.4  0.2        1\n",
      "..   ...  ...  ...  ...      ...\n",
      "145  6.7  3.0  5.2  2.3        2\n",
      "146  6.3  2.5  5.0  1.9        2\n",
      "147  6.5  3.0  5.2  2.0        2\n",
      "148  6.2  3.4  5.4  2.3        2\n",
      "149  5.9  3.0  5.1  1.8        2\n",
      "\n",
      "[150 rows x 5 columns]\n"
     ]
    },
    {
     "data": {
      "image/png": "[encoded data removed]",
      "text/plain": [
       "<Figure size 432x288 with 1 Axes>"
      ]
     },
     "metadata": {
      "needs_background": "light"
     },
     "output_type": "display_data"
    },
    {
     "name": "stdout",
     "output_type": "stream",
     "text": [
      "1\n",
      "[0    5.006\n",
      "1    3.428\n",
      "2    1.462\n",
      "3    0.246\n",
      "dtype: float64, 0    6.554286\n",
      "1    2.974286\n",
      "2    5.300000\n",
      "3    1.865714\n",
      "dtype: float64, 0    5.580000\n",
      "1    2.633333\n",
      "2    3.986667\n",
      "3    1.233333\n",
      "dtype: float64]\n",
      "       0    1    2    3  closest\n",
      "0    5.1  3.5  1.4  0.2        1\n",
      "1    4.9  3.0  1.4  0.2        1\n",
      "2    4.7  3.2  1.3  0.2        1\n",
      "3    4.6  3.1  1.5  0.2        1\n",
      "4    5.0  3.6  1.4  0.2        1\n",
      "..   ...  ...  ...  ...      ...\n",
      "145  6.7  3.0  5.2  2.3        2\n",
      "146  6.3  2.5  5.0  1.9        2\n",
      "147  6.5  3.0  5.2  2.0        2\n",
      "148  6.2  3.4  5.4  2.3        2\n",
      "149  5.9  3.0  5.1  1.8        2\n",
      "\n",
      "[150 rows x 5 columns]\n",
      "       0    1    2    3  closest\n",
      "0    5.1  3.5  1.4  0.2        1\n",
      "1    4.9  3.0  1.4  0.2        1\n",
      "2    4.7  3.2  1.3  0.2        1\n",
      "3    4.6  3.1  1.5  0.2        1\n",
      "4    5.0  3.6  1.4  0.2        1\n",
      "..   ...  ...  ...  ...      ...\n",
      "145  6.7  3.0  5.2  2.3        2\n",
      "146  6.3  2.5  5.0  1.9        2\n",
      "147  6.5  3.0  5.2  2.0        2\n",
      "148  6.2  3.4  5.4  2.3        2\n",
      "149  5.9  3.0  5.1  1.8        2\n",
      "\n",
      "[150 rows x 5 columns]\n"
     ]
    },
    {
     "data": {
      "image/png": "[encoded data removed]",
      "text/plain": [
       "<Figure size 432x288 with 1 Axes>"
      ]
     },
     "metadata": {
      "needs_background": "light"
     },
     "output_type": "display_data"
    },
    {
     "name": "stdout",
     "output_type": "stream",
     "text": [
      "2\n",
      "[0    5.006\n",
      "1    3.428\n",
      "2    1.462\n",
      "3    0.246\n",
      "dtype: float64, 0    6.593750\n",
      "1    2.984375\n",
      "2    5.373438\n",
      "3    1.907812\n",
      "dtype: float64, 0    5.672222\n",
      "1    2.672222\n",
      "2    4.075000\n",
      "3    1.263889\n",
      "dtype: float64]\n",
      "       0    1    2    3  closest\n",
      "0    5.1  3.5  1.4  0.2        1\n",
      "1    4.9  3.0  1.4  0.2        1\n",
      "2    4.7  3.2  1.3  0.2        1\n",
      "3    4.6  3.1  1.5  0.2        1\n",
      "4    5.0  3.6  1.4  0.2        1\n",
      "..   ...  ...  ...  ...      ...\n",
      "145  6.7  3.0  5.2  2.3        2\n",
      "146  6.3  2.5  5.0  1.9        2\n",
      "147  6.5  3.0  5.2  2.0        2\n",
      "148  6.2  3.4  5.4  2.3        2\n",
      "149  5.9  3.0  5.1  1.8        2\n",
      "\n",
      "[150 rows x 5 columns]\n",
      "       0    1    2    3  closest\n",
      "0    5.1  3.5  1.4  0.2        1\n",
      "1    4.9  3.0  1.4  0.2        1\n",
      "2    4.7  3.2  1.3  0.2        1\n",
      "3    4.6  3.1  1.5  0.2        1\n",
      "4    5.0  3.6  1.4  0.2        1\n",
      "..   ...  ...  ...  ...      ...\n",
      "145  6.7  3.0  5.2  2.3        2\n",
      "146  6.3  2.5  5.0  1.9        2\n",
      "147  6.5  3.0  5.2  2.0        2\n",
      "148  6.2  3.4  5.4  2.3        2\n",
      "149  5.9  3.0  5.1  1.8        2\n",
      "\n",
      "[150 rows x 5 columns]\n"
     ]
    },
    {
     "data": {
      "image/png": "[encoded data removed]",
      "text/plain": [
       "<Figure size 432x288 with 1 Axes>"
      ]
     },
     "metadata": {
      "needs_background": "light"
     },
     "output_type": "display_data"
    }
   ],
   "source": [
    "iris_x = load_iris()['data']\n",
    "\n",
    "df = pd.DataFrame(data=iris_x)\n",
    "\n",
    "#number of clusters\n",
    "k = 3\n",
    "#number of iterations\n",
    "iterations = 3\n",
    "\n",
    "# =============================================================================\n",
    "# 1: Select centroids\n",
    "# =============================================================================\n",
    "\n",
    "def select_centroids(df, k):\n",
    "    centroids = df.sample(n=k, replace=False)\n",
    "    return centroids\n",
    "\n",
    "# =============================================================================\n",
    "# 2: kmeans\n",
    "# =============================================================================\n",
    "\n",
    "def get_closest_cluster(row):\n",
    "    distances = []\n",
    "    \n",
    "    for centroid in centroids.values:\n",
    "        distances.append(np.linalg.norm(centroid - row))\n",
    "    return distances.index(min(distances)) + 1\n",
    "\n",
    "centroids = select_centroids(df, k)\n",
    "\n",
    "df['closest'] = df.apply(get_closest_cluster, axis=1)\n",
    "\n",
    "\n",
    "# =============================================================================\n",
    "# 3: looping\n",
    "# =============================================================================\n",
    "\n",
    "for it in range(iterations):\n",
    "    print(it) \n",
    "    new_centroids = []\n",
    "    for i in range(1,k+1):\n",
    "        \n",
    "        cluster_data = df[df['closest'] == i].iloc[:,:-1]\n",
    "        new_centroids.append(np.mean(cluster_data, axis=0))\n",
    "        #compute the mean of the cluster which is the new centroids\n",
    "    \n",
    "    print(new_centroids)\n",
    "    centroids= pd.DataFrame(new_centroids)\n",
    "    #set new centroids as centroids to use in iteration\n",
    "    #print(\"centroids:\" + centroids)\n",
    "    print(df)\n",
    "    df['closest'] = df.iloc[:,:-1].apply(get_closest_cluster, axis=1)\n",
    "    #update closest cluster column with the new clostest cluster\n",
    "    print(df)\n",
    "\n",
    "    sb.scatterplot(data = df, x = 0, y = 1, hue='closest')\n",
    "    sb.scatterplot(data = centroids, x = 0, y = 1, color= 'red')\n",
    "    #update 0 and 1 in both lines above to see the plot (line 1) and the centroids (line 2) \n",
    "    #for the dimensions you want to compare\n",
    "    \n",
    "    plt.show()\n",
    "\n"
   ]
  },
  {
   "cell_type": "markdown",
   "metadata": {},
   "source": [
    "## PSO\n"
   ]
  },
  {
   "cell_type": "code",
   "execution_count": null,
   "metadata": {},
   "outputs": [],
   "source": [
    "iris_x = load_iris()['data']\n",
    "\n",
    "df = pd.DataFrame(data=iris_x)\n",
    "\n",
    "#number of clusters\n",
    "k = 3\n",
    "#number of iterations\n",
    "iterations = 3\n",
    "\n",
    "# =============================================================================\n",
    "# 1: Select centroids\n",
    "# =============================================================================\n",
    "\n",
    "def select_centroids(df, k):\n",
    "    centroids = df.sample(n=k, replace=False)\n",
    "    return centroids\n",
    "\n",
    "# =============================================================================\n",
    "# 2: kmeans\n",
    "# =============================================================================\n",
    "\n",
    "def get_closest_cluster(row):\n",
    "    distances = []\n",
    "    \n",
    "    for centroid in centroids.values:\n",
    "        distances.append(np.linalg.norm(centroid - row))\n",
    "    return distances.index(min(distances)) + 1\n",
    "\n",
    "centroids = select_centroids(df, k)\n",
    "\n",
    "df['closest'] = df.apply(get_closest_cluster, axis=1)\n",
    "\n",
    "\n",
    "# =============================================================================\n",
    "# 3: looping\n",
    "# =============================================================================\n",
    "\n",
    "for it in range(iterations):\n",
    "    print(it) \n",
    "    new_centroids = []\n",
    "    for i in range(1,k+1):\n",
    "        \n",
    "        cluster_data = df[df['closest'] == i].iloc[:,:-1]\n",
    "        new_centroids.append(np.mean(cluster_data, axis=0))\n",
    "        #compute the mean of the cluster which is the new centroids\n",
    "    \n",
    "    print(new_centroids)\n",
    "    centroids= pd.DataFrame(new_centroids)\n",
    "    #set new centroids as centroids to use in iteration\n",
    "    #print(\"centroids:\" + centroids)\n",
    "    print(df)\n",
    "    df['closest'] = df.iloc[:,:-1].apply(get_closest_cluster, axis=1)\n",
    "    #update closest cluster column with the new clostest cluster\n",
    "    print(df)\n",
    "\n",
    "    sb.scatterplot(data = df, x = 0, y = 1, hue='closest')\n",
    "    sb.scatterplot(data = centroids, x = 0, y = 1, color= 'red')\n",
    "    #update 0 and 1 in both lines above to see the plot (line 1) and the centroids (line 2) \n",
    "    #for the dimensions you want to compare\n",
    "    \n",
    "    plt.show()\n",
    "\n"
   ]
  }
 ],
 "metadata": {
  "kernelspec": {
   "display_name": "Python 3",
   "language": "python",
   "name": "python3"
  },
  "language_info": {
   "codemirror_mode": {
    "name": "ipython",
    "version": 3
   },
   "file_extension": ".py",
   "mimetype": "text/x-python",
   "name": "python",
   "nbconvert_exporter": "python",
   "pygments_lexer": "ipython3",
   "version": "3.8.5"
  }
 },
 "nbformat": 4,
 "nbformat_minor": 4
}
